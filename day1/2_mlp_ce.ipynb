{
 "cells": [
  {
   "cell_type": "markdown",
   "metadata": {},
   "source": [
    "# MNIST\n",
    "\n",
    "FC network on the MNIST dataset\n",
    "\n",
    "# Guided exercise\n",
    "\n",
    "\n",
    "- The code will run but the network will not train: we will read carefully the code together\n",
    "and try to figure out where the problem is.\n",
    "\n",
    "Then you should (we will do it together anyway...)\n",
    "\n",
    "- Run it and plot training and test loss and error\n",
    "\n",
    "- Experiment a bit with changing the hidden layer size\n",
    "\n",
    "- Define a new network with two hidden layers of sizes [50,30] \n",
    "and train it for a few epochs\n",
    "\n",
    "- Write a function to extract representations in both hidden layers\n",
    "\n",
    "- Change loss function by adding a L2 regularization (see documentation and the implementation of \n",
    "    optim.SGD)\n",
    "  can you make sense of what exactly happens there? This is also key if you want to modify the learning\n",
    "  rule by yourself, be it applying L1 regularization or define some fancier learning rules.\n",
    "  On may want, for example, to *block* learning of just one parameter or a group of parameters, but\n",
    "  not all the parameters of a *group*, like all the parameters in a layer.\n",
    "  This could be only done (to my knowledge) by customized manipulations such as for example\n",
    "  *masking*, we will discuss it for the exam.\n",
    "  \n",
    "- Make a T-SNE 2D visualization of the representations in the two\n",
    "hidden layers with $N=1000$ test samples. (Solution: you may want to define a new\n",
    "loader (custom_loader) for this purpose, and once you have it you may need to sample from it\n",
    "sample = next(iter(custom_loader)))\n",
    ")\n",
    "\n",
    "\n",
    "Now, for the rest of this day, you can experiment by yourself or retrace some of our passages.\n",
    "You don't have to submit anything, just try whatever you want."
   ]
  },
  {
   "cell_type": "code",
   "execution_count": 1,
   "metadata": {},
   "outputs": [],
   "source": [
    "%matplotlib inline\n",
    "%load_ext autoreload\n",
    "%autoreload 2"
   ]
  },
  {
   "cell_type": "code",
   "execution_count": 2,
   "metadata": {},
   "outputs": [],
   "source": [
    "from __future__ import print_function\n",
    "import argparse\n",
    "import torch\n",
    "import torch.nn as nn\n",
    "import torch.nn.functional as F\n",
    "import torch.optim as optim\n",
    "from torchvision import datasets, transforms\n",
    "from torchsummary import summary\n",
    "from matplotlib import pyplot as plt\n",
    "from sklearn.manifold import TSNE"
   ]
  },
  {
   "cell_type": "code",
   "execution_count": 3,
   "metadata": {},
   "outputs": [],
   "source": [
    "class FCNet(nn.Module):\n",
    "    def __init__(self,din=784, dh=30, dout=10):\n",
    "        super(FCNet, self).__init__()\n",
    "        \n",
    "        self.lin1 = nn.Linear(din, dh)\n",
    "        self.lin2 = nn.Linear(dh, dout)\n",
    "    \n",
    "    def forward(self, x):    \n",
    "        x = torch.sigmoid(self.lin1(x)) \n",
    "        return  F.log_softmax(self.lin2(x))  \n"
   ]
  },
  {
   "cell_type": "code",
   "execution_count": 4,
   "metadata": {},
   "outputs": [],
   "source": [
    "# Add another hidden layer\n",
    "class DeeperFCNet(nn.Module):\n",
    "    def __init__(self,din=784, dh1=50, dh2=30, dout=10):\n",
    "        super(DeeperFCNet, self).__init__()\n",
    "        \n",
    "        self.lin1 = nn.Linear(din, dh1)\n",
    "        \n",
    "        self.lin2 = nn.Linear(dh1, dh2)\n",
    "        \n",
    "        self.lin3 = nn.Linear(dh2, dout)\n",
    "    \n",
    "    def forward(self, x):\n",
    "        \n",
    "        x = torch.sigmoid(self.lin1(x))\n",
    "        \n",
    "        x = torch.sigmoid(self.lin2(x))\n",
    "        \n",
    "        return  F.log_softmax(self.lin3(x), dim=1)  \n",
    "    \n",
    "    \n",
    "    def extract(self, x):\n",
    "        \n",
    "        h1 = torch.sigmoid(self.lin1(x))\n",
    "        \n",
    "        h2 = torch.sigmoid(self.lin2(h1))\n",
    "        \n",
    "        return h1, h2\n",
    "        "
   ]
  },
  {
   "cell_type": "markdown",
   "metadata": {},
   "source": [
    "Questions:\n",
    "- is this a *deep* network?\n",
    "- how many hidden layers do we have?\n",
    "- what is the number of parameters?\n",
    "- how to you forward pass an input data?"
   ]
  },
  {
   "cell_type": "code",
   "execution_count": 5,
   "metadata": {},
   "outputs": [
    {
     "data": {
      "text/plain": [
       "\u001b[0;31mSignature:\u001b[0m\n",
       "\u001b[0mF\u001b[0m\u001b[0;34m.\u001b[0m\u001b[0mnll_loss\u001b[0m\u001b[0;34m(\u001b[0m\u001b[0;34m\u001b[0m\n",
       "\u001b[0;34m\u001b[0m    \u001b[0minput\u001b[0m\u001b[0;34m,\u001b[0m\u001b[0;34m\u001b[0m\n",
       "\u001b[0;34m\u001b[0m    \u001b[0mtarget\u001b[0m\u001b[0;34m,\u001b[0m\u001b[0;34m\u001b[0m\n",
       "\u001b[0;34m\u001b[0m    \u001b[0mweight\u001b[0m\u001b[0;34m=\u001b[0m\u001b[0;32mNone\u001b[0m\u001b[0;34m,\u001b[0m\u001b[0;34m\u001b[0m\n",
       "\u001b[0;34m\u001b[0m    \u001b[0msize_average\u001b[0m\u001b[0;34m=\u001b[0m\u001b[0;32mNone\u001b[0m\u001b[0;34m,\u001b[0m\u001b[0;34m\u001b[0m\n",
       "\u001b[0;34m\u001b[0m    \u001b[0mignore_index\u001b[0m\u001b[0;34m=\u001b[0m\u001b[0;34m-\u001b[0m\u001b[0;36m100\u001b[0m\u001b[0;34m,\u001b[0m\u001b[0;34m\u001b[0m\n",
       "\u001b[0;34m\u001b[0m    \u001b[0mreduce\u001b[0m\u001b[0;34m=\u001b[0m\u001b[0;32mNone\u001b[0m\u001b[0;34m,\u001b[0m\u001b[0;34m\u001b[0m\n",
       "\u001b[0;34m\u001b[0m    \u001b[0mreduction\u001b[0m\u001b[0;34m=\u001b[0m\u001b[0;34m'mean'\u001b[0m\u001b[0;34m,\u001b[0m\u001b[0;34m\u001b[0m\n",
       "\u001b[0;34m\u001b[0m\u001b[0;34m)\u001b[0m\u001b[0;34m\u001b[0m\u001b[0;34m\u001b[0m\u001b[0m\n",
       "\u001b[0;31mDocstring:\u001b[0m\n",
       "The negative log likelihood loss.\n",
       "\n",
       "See :class:`~torch.nn.NLLLoss` for details.\n",
       "\n",
       "Args:\n",
       "    input: :math:`(N, C)` where `C = number of classes` or :math:`(N, C, H, W)`\n",
       "        in case of 2D Loss, or :math:`(N, C, d_1, d_2, ..., d_K)` where :math:`K \\geq 1`\n",
       "        in the case of K-dimensional loss.\n",
       "    target: :math:`(N)` where each value is :math:`0 \\leq \\text{targets}[i] \\leq C-1`,\n",
       "        or :math:`(N, d_1, d_2, ..., d_K)` where :math:`K \\geq 1` for\n",
       "        K-dimensional loss.\n",
       "    weight (Tensor, optional): a manual rescaling weight given to each\n",
       "        class. If given, has to be a Tensor of size `C`\n",
       "    size_average (bool, optional): Deprecated (see :attr:`reduction`). By default,\n",
       "        the losses are averaged over each loss element in the batch. Note that for\n",
       "        some losses, there multiple elements per sample. If the field :attr:`size_average`\n",
       "        is set to ``False``, the losses are instead summed for each minibatch. Ignored\n",
       "        when reduce is ``False``. Default: ``True``\n",
       "    ignore_index (int, optional): Specifies a target value that is ignored\n",
       "        and does not contribute to the input gradient. When :attr:`size_average` is\n",
       "        ``True``, the loss is averaged over non-ignored targets. Default: -100\n",
       "    reduce (bool, optional): Deprecated (see :attr:`reduction`). By default, the\n",
       "        losses are averaged or summed over observations for each minibatch depending\n",
       "        on :attr:`size_average`. When :attr:`reduce` is ``False``, returns a loss per\n",
       "        batch element instead and ignores :attr:`size_average`. Default: ``True``\n",
       "    reduction (string, optional): Specifies the reduction to apply to the output:\n",
       "        ``'none'`` | ``'mean'`` | ``'sum'``. ``'none'``: no reduction will be applied,\n",
       "        ``'mean'``: the sum of the output will be divided by the number of\n",
       "        elements in the output, ``'sum'``: the output will be summed. Note: :attr:`size_average`\n",
       "        and :attr:`reduce` are in the process of being deprecated, and in the meantime,\n",
       "        specifying either of those two args will override :attr:`reduction`. Default: ``'mean'``\n",
       "\n",
       "Example::\n",
       "\n",
       "    >>> # input is of size N x C = 3 x 5\n",
       "    >>> input = torch.randn(3, 5, requires_grad=True)\n",
       "    >>> # each element in target has to have 0 <= value < C\n",
       "    >>> target = torch.tensor([1, 0, 4])\n",
       "    >>> output = F.nll_loss(F.log_softmax(input), target)\n",
       "    >>> output.backward()\n",
       "\u001b[0;31mFile:\u001b[0m      ~/.local/lib/python3.6/site-packages/torch/nn/functional.py\n",
       "\u001b[0;31mType:\u001b[0m      function\n"
      ]
     },
     "metadata": {},
     "output_type": "display_data"
    }
   ],
   "source": [
    "F.nll_loss?"
   ]
  },
  {
   "cell_type": "markdown",
   "metadata": {},
   "source": [
    "[o1,o2,....o10]\n",
    "\n",
    "max is o2 ---> \"1\"\n",
    "y == 1 'hit'\n",
    "otherwise 'miss'\n",
    "\n",
    "n.of hits/n.of samples = accuracy"
   ]
  },
  {
   "cell_type": "code",
   "execution_count": 6,
   "metadata": {},
   "outputs": [],
   "source": [
    "def train(model, device, train_loader, optimizer, epoch):\n",
    "    model.train()\n",
    "    for batch_idx, (data, target) in enumerate(train_loader):\n",
    "        data, target = data.to(device), target.to(device)\n",
    "        data = data.view(-1,784)\n",
    "        \n",
    "        optimizer.zero_grad()\n",
    "        \n",
    "        output = model(data)\n",
    "        \n",
    "        loss = F.nll_loss(output, target)\n",
    "        \n",
    "        loss.backward()\n",
    "        \n",
    "        optimizer.step()\n",
    "        \n",
    "        if batch_idx % log_interval == 0:\n",
    "            print('Train Epoch: {} [{}/{} ({:.0f}%)]\\tLoss: {:.6f}'.format(\n",
    "                epoch, batch_idx * len(data), len(train_loader.dataset),\n",
    "                100. * batch_idx / len(train_loader), loss.item()))\n",
    "        "
   ]
  },
  {
   "cell_type": "code",
   "execution_count": 7,
   "metadata": {},
   "outputs": [],
   "source": [
    "def test(model, device, test_loader):\n",
    "    model.eval()\n",
    "    test_loss = 0\n",
    "    correct = 0\n",
    "    with torch.no_grad():\n",
    "        for data, target in test_loader:\n",
    "            data, target = data.to(device), target.to(device)\n",
    "            data = data.view(-1,784)\n",
    "            output = model(data)\n",
    "            test_loss += F.nll_loss(output, target, reduction='sum').item() # sum up batch loss\n",
    "            pred = output.argmax(dim=1, keepdim=True) # get the index of the max log-probability\n",
    "            correct += pred.eq(target.view_as(pred)).sum().item()\n",
    "\n",
    "    test_loss /= len(test_loader.dataset)\n",
    "\n",
    "    print('\\nTest set: Average loss: {:.4f}, Accuracy: {}/{} ({:.0f}%)\\n'.format(\n",
    "        test_loss, correct, len(test_loader.dataset),\n",
    "        100. * correct / len(test_loader.dataset)))"
   ]
  },
  {
   "cell_type": "code",
   "execution_count": 8,
   "metadata": {},
   "outputs": [],
   "source": [
    "# Training settings\n",
    "input_size=(784,)\n",
    "batch_size=64\n",
    "test_batch_size=1000\n",
    "epochs=10\n",
    "lr=0.01\n",
    "momentum=0.0   \n",
    "seed=1\n",
    "log_interval=100"
   ]
  },
  {
   "cell_type": "code",
   "execution_count": 9,
   "metadata": {},
   "outputs": [],
   "source": [
    "use_cuda = torch.cuda.is_available()\n",
    "torch.manual_seed(seed)\n",
    "device = torch.device(\"cuda\" if use_cuda else \"cpu\")\n",
    "kwargs = {'num_workers': 1, 'pin_memory': True} if use_cuda else {}"
   ]
  },
  {
   "cell_type": "code",
   "execution_count": 10,
   "metadata": {},
   "outputs": [],
   "source": [
    "train_loader = torch.utils.data.DataLoader(\n",
    "        datasets.MNIST('../data', train=True, download=True,\n",
    "                       transform=transforms.Compose([\n",
    "                           transforms.ToTensor(),\n",
    "                           transforms.Normalize((0.1307,), (0.3081,))\n",
    "                       ])),\n",
    "        batch_size=batch_size, shuffle=True, **kwargs)"
   ]
  },
  {
   "cell_type": "code",
   "execution_count": 11,
   "metadata": {},
   "outputs": [],
   "source": [
    "test_loader = torch.utils.data.DataLoader(\n",
    "        datasets.MNIST('../data', train=False, transform=transforms.Compose([\n",
    "                           transforms.ToTensor(),\n",
    "                           transforms.Normalize((0.1307,), (0.3081,))\n",
    "                       ])),\n",
    "        batch_size=test_batch_size, shuffle=True, **kwargs)"
   ]
  },
  {
   "cell_type": "code",
   "execution_count": 12,
   "metadata": {},
   "outputs": [],
   "source": [
    "model = FCNet().to(device)"
   ]
  },
  {
   "cell_type": "code",
   "execution_count": 13,
   "metadata": {},
   "outputs": [
    {
     "name": "stdout",
     "output_type": "stream",
     "text": [
      "----------------------------------------------------------------\n",
      "        Layer (type)               Output Shape         Param #\n",
      "================================================================\n",
      "            Linear-1                   [-1, 30]          23,550\n",
      "            Linear-2                   [-1, 10]             310\n",
      "================================================================\n",
      "Total params: 23,860\n",
      "Trainable params: 23,860\n",
      "Non-trainable params: 0\n",
      "----------------------------------------------------------------\n",
      "Input size (MB): 0.00\n",
      "Forward/backward pass size (MB): 0.00\n",
      "Params size (MB): 0.09\n",
      "Estimated Total Size (MB): 0.09\n",
      "----------------------------------------------------------------\n"
     ]
    },
    {
     "name": "stderr",
     "output_type": "stream",
     "text": [
      "/home/martina/.local/lib/python3.6/site-packages/ipykernel_launcher.py:10: UserWarning: Implicit dimension choice for log_softmax has been deprecated. Change the call to include dim=X as an argument.\n",
      "  # Remove the CWD from sys.path while we load stuff.\n"
     ]
    }
   ],
   "source": [
    "summary(model, input_size)"
   ]
  },
  {
   "cell_type": "code",
   "execution_count": 14,
   "metadata": {},
   "outputs": [],
   "source": [
    "optimizer = optim.SGD(model.parameters(), lr=lr, momentum=momentum)"
   ]
  },
  {
   "cell_type": "code",
   "execution_count": 15,
   "metadata": {},
   "outputs": [
    {
     "name": "stderr",
     "output_type": "stream",
     "text": [
      "/home/martina/.local/lib/python3.6/site-packages/ipykernel_launcher.py:10: UserWarning: Implicit dimension choice for log_softmax has been deprecated. Change the call to include dim=X as an argument.\n",
      "  # Remove the CWD from sys.path while we load stuff.\n"
     ]
    },
    {
     "name": "stdout",
     "output_type": "stream",
     "text": [
      "Train Epoch: 1 [0/60000 (0%)]\tLoss: 2.300056\n",
      "Train Epoch: 1 [6400/60000 (11%)]\tLoss: 2.086020\n",
      "Train Epoch: 1 [12800/60000 (21%)]\tLoss: 1.915595\n",
      "Train Epoch: 1 [19200/60000 (32%)]\tLoss: 1.829770\n",
      "Train Epoch: 1 [25600/60000 (43%)]\tLoss: 1.647874\n",
      "Train Epoch: 1 [32000/60000 (53%)]\tLoss: 1.458466\n",
      "Train Epoch: 1 [38400/60000 (64%)]\tLoss: 1.429202\n",
      "Train Epoch: 1 [44800/60000 (75%)]\tLoss: 1.302658\n",
      "Train Epoch: 1 [51200/60000 (85%)]\tLoss: 1.175045\n",
      "Train Epoch: 1 [57600/60000 (96%)]\tLoss: 1.143153\n",
      "\n",
      "Test set: Average loss: 1.1293, Accuracy: 8024/10000 (80%)\n",
      "\n",
      "Train Epoch: 2 [0/60000 (0%)]\tLoss: 1.173451\n",
      "Train Epoch: 2 [6400/60000 (11%)]\tLoss: 1.101333\n",
      "Train Epoch: 2 [12800/60000 (21%)]\tLoss: 0.907203\n",
      "Train Epoch: 2 [19200/60000 (32%)]\tLoss: 0.999891\n",
      "Train Epoch: 2 [25600/60000 (43%)]\tLoss: 0.949019\n",
      "Train Epoch: 2 [32000/60000 (53%)]\tLoss: 0.937695\n",
      "Train Epoch: 2 [38400/60000 (64%)]\tLoss: 0.821586\n",
      "Train Epoch: 2 [44800/60000 (75%)]\tLoss: 0.866027\n",
      "Train Epoch: 2 [51200/60000 (85%)]\tLoss: 0.657972\n",
      "Train Epoch: 2 [57600/60000 (96%)]\tLoss: 0.607163\n",
      "\n",
      "Test set: Average loss: 0.7277, Accuracy: 8682/10000 (87%)\n",
      "\n",
      "Train Epoch: 3 [0/60000 (0%)]\tLoss: 0.737430\n",
      "Train Epoch: 3 [6400/60000 (11%)]\tLoss: 0.780149\n",
      "Train Epoch: 3 [12800/60000 (21%)]\tLoss: 0.872033\n",
      "Train Epoch: 3 [19200/60000 (32%)]\tLoss: 0.679233\n",
      "Train Epoch: 3 [25600/60000 (43%)]\tLoss: 0.650012\n",
      "Train Epoch: 3 [32000/60000 (53%)]\tLoss: 0.742885\n",
      "Train Epoch: 3 [38400/60000 (64%)]\tLoss: 0.591807\n",
      "Train Epoch: 3 [44800/60000 (75%)]\tLoss: 0.545206\n",
      "Train Epoch: 3 [51200/60000 (85%)]\tLoss: 0.516545\n",
      "Train Epoch: 3 [57600/60000 (96%)]\tLoss: 0.728406\n",
      "\n",
      "Test set: Average loss: 0.5579, Accuracy: 8880/10000 (89%)\n",
      "\n",
      "Train Epoch: 4 [0/60000 (0%)]\tLoss: 0.573223\n",
      "Train Epoch: 4 [6400/60000 (11%)]\tLoss: 0.580937\n",
      "Train Epoch: 4 [12800/60000 (21%)]\tLoss: 0.463560\n",
      "Train Epoch: 4 [19200/60000 (32%)]\tLoss: 0.473967\n",
      "Train Epoch: 4 [25600/60000 (43%)]\tLoss: 0.513878\n",
      "Train Epoch: 4 [32000/60000 (53%)]\tLoss: 0.579612\n",
      "Train Epoch: 4 [38400/60000 (64%)]\tLoss: 0.586599\n",
      "Train Epoch: 4 [44800/60000 (75%)]\tLoss: 0.480304\n",
      "Train Epoch: 4 [51200/60000 (85%)]\tLoss: 0.631444\n",
      "Train Epoch: 4 [57600/60000 (96%)]\tLoss: 0.432281\n",
      "\n",
      "Test set: Average loss: 0.4675, Accuracy: 8985/10000 (90%)\n",
      "\n",
      "Train Epoch: 5 [0/60000 (0%)]\tLoss: 0.431583\n",
      "Train Epoch: 5 [6400/60000 (11%)]\tLoss: 0.425461\n",
      "Train Epoch: 5 [12800/60000 (21%)]\tLoss: 0.411288\n",
      "Train Epoch: 5 [19200/60000 (32%)]\tLoss: 0.540189\n",
      "Train Epoch: 5 [25600/60000 (43%)]\tLoss: 0.379151\n",
      "Train Epoch: 5 [32000/60000 (53%)]\tLoss: 0.466795\n",
      "Train Epoch: 5 [38400/60000 (64%)]\tLoss: 0.503264\n",
      "Train Epoch: 5 [44800/60000 (75%)]\tLoss: 0.460469\n",
      "Train Epoch: 5 [51200/60000 (85%)]\tLoss: 0.469588\n",
      "Train Epoch: 5 [57600/60000 (96%)]\tLoss: 0.377915\n",
      "\n",
      "Test set: Average loss: 0.4135, Accuracy: 9062/10000 (91%)\n",
      "\n",
      "Train Epoch: 6 [0/60000 (0%)]\tLoss: 0.461850\n",
      "Train Epoch: 6 [6400/60000 (11%)]\tLoss: 0.423538\n",
      "Train Epoch: 6 [12800/60000 (21%)]\tLoss: 0.355814\n",
      "Train Epoch: 6 [19200/60000 (32%)]\tLoss: 0.316607\n",
      "Train Epoch: 6 [25600/60000 (43%)]\tLoss: 0.297296\n",
      "Train Epoch: 6 [32000/60000 (53%)]\tLoss: 0.373381\n",
      "Train Epoch: 6 [38400/60000 (64%)]\tLoss: 0.418489\n",
      "Train Epoch: 6 [44800/60000 (75%)]\tLoss: 0.502669\n",
      "Train Epoch: 6 [51200/60000 (85%)]\tLoss: 0.419463\n",
      "Train Epoch: 6 [57600/60000 (96%)]\tLoss: 0.300639\n",
      "\n",
      "Test set: Average loss: 0.3771, Accuracy: 9097/10000 (91%)\n",
      "\n",
      "Train Epoch: 7 [0/60000 (0%)]\tLoss: 0.470005\n",
      "Train Epoch: 7 [6400/60000 (11%)]\tLoss: 0.498183\n",
      "Train Epoch: 7 [12800/60000 (21%)]\tLoss: 0.455954\n",
      "Train Epoch: 7 [19200/60000 (32%)]\tLoss: 0.473960\n",
      "Train Epoch: 7 [25600/60000 (43%)]\tLoss: 0.452680\n",
      "Train Epoch: 7 [32000/60000 (53%)]\tLoss: 0.407637\n",
      "Train Epoch: 7 [38400/60000 (64%)]\tLoss: 0.397246\n",
      "Train Epoch: 7 [44800/60000 (75%)]\tLoss: 0.323881\n",
      "Train Epoch: 7 [51200/60000 (85%)]\tLoss: 0.367946\n",
      "Train Epoch: 7 [57600/60000 (96%)]\tLoss: 0.258449\n",
      "\n",
      "Test set: Average loss: 0.3511, Accuracy: 9146/10000 (91%)\n",
      "\n",
      "Train Epoch: 8 [0/60000 (0%)]\tLoss: 0.354408\n",
      "Train Epoch: 8 [6400/60000 (11%)]\tLoss: 0.247787\n",
      "Train Epoch: 8 [12800/60000 (21%)]\tLoss: 0.267625\n",
      "Train Epoch: 8 [19200/60000 (32%)]\tLoss: 0.387099\n",
      "Train Epoch: 8 [25600/60000 (43%)]\tLoss: 0.246252\n",
      "Train Epoch: 8 [32000/60000 (53%)]\tLoss: 0.309156\n",
      "Train Epoch: 8 [38400/60000 (64%)]\tLoss: 0.282052\n",
      "Train Epoch: 8 [44800/60000 (75%)]\tLoss: 0.270245\n",
      "Train Epoch: 8 [51200/60000 (85%)]\tLoss: 0.310781\n",
      "Train Epoch: 8 [57600/60000 (96%)]\tLoss: 0.345344\n",
      "\n",
      "Test set: Average loss: 0.3318, Accuracy: 9179/10000 (92%)\n",
      "\n",
      "Train Epoch: 9 [0/60000 (0%)]\tLoss: 0.564419\n",
      "Train Epoch: 9 [6400/60000 (11%)]\tLoss: 0.297990\n",
      "Train Epoch: 9 [12800/60000 (21%)]\tLoss: 0.289186\n",
      "Train Epoch: 9 [19200/60000 (32%)]\tLoss: 0.226838\n",
      "Train Epoch: 9 [25600/60000 (43%)]\tLoss: 0.354631\n",
      "Train Epoch: 9 [32000/60000 (53%)]\tLoss: 0.228997\n",
      "Train Epoch: 9 [38400/60000 (64%)]\tLoss: 0.319279\n",
      "Train Epoch: 9 [44800/60000 (75%)]\tLoss: 0.302437\n",
      "Train Epoch: 9 [51200/60000 (85%)]\tLoss: 0.188969\n",
      "Train Epoch: 9 [57600/60000 (96%)]\tLoss: 0.492204\n",
      "\n",
      "Test set: Average loss: 0.3172, Accuracy: 9208/10000 (92%)\n",
      "\n",
      "Train Epoch: 10 [0/60000 (0%)]\tLoss: 0.219164\n",
      "Train Epoch: 10 [6400/60000 (11%)]\tLoss: 0.314920\n",
      "Train Epoch: 10 [12800/60000 (21%)]\tLoss: 0.234677\n",
      "Train Epoch: 10 [19200/60000 (32%)]\tLoss: 0.245649\n",
      "Train Epoch: 10 [25600/60000 (43%)]\tLoss: 0.391818\n",
      "Train Epoch: 10 [32000/60000 (53%)]\tLoss: 0.260929\n",
      "Train Epoch: 10 [38400/60000 (64%)]\tLoss: 0.151113\n",
      "Train Epoch: 10 [44800/60000 (75%)]\tLoss: 0.371054\n",
      "Train Epoch: 10 [51200/60000 (85%)]\tLoss: 0.386004\n",
      "Train Epoch: 10 [57600/60000 (96%)]\tLoss: 0.344668\n",
      "\n",
      "Test set: Average loss: 0.3042, Accuracy: 9230/10000 (92%)\n",
      "\n"
     ]
    }
   ],
   "source": [
    "for epoch in range(1, epochs + 1):\n",
    "    train(model, device, train_loader, optimizer, epoch)\n",
    "    test(model, device, test_loader)"
   ]
  },
  {
   "cell_type": "markdown",
   "metadata": {},
   "source": [
    "# Deeper net"
   ]
  },
  {
   "cell_type": "code",
   "execution_count": 16,
   "metadata": {},
   "outputs": [],
   "source": [
    "model3 = DeeperFCNet().to(device)"
   ]
  },
  {
   "cell_type": "code",
   "execution_count": 17,
   "metadata": {},
   "outputs": [],
   "source": [
    "optimizer3 = optim.SGD(model3.parameters(), lr=lr, momentum=momentum)"
   ]
  },
  {
   "cell_type": "code",
   "execution_count": 18,
   "metadata": {},
   "outputs": [
    {
     "name": "stdout",
     "output_type": "stream",
     "text": [
      "Train Epoch: 1 [0/60000 (0%)]\tLoss: 2.291912\n",
      "Train Epoch: 1 [6400/60000 (11%)]\tLoss: 2.298840\n",
      "Train Epoch: 1 [12800/60000 (21%)]\tLoss: 2.308768\n",
      "Train Epoch: 1 [19200/60000 (32%)]\tLoss: 2.279930\n",
      "Train Epoch: 1 [25600/60000 (43%)]\tLoss: 2.283123\n",
      "Train Epoch: 1 [32000/60000 (53%)]\tLoss: 2.273269\n",
      "Train Epoch: 1 [38400/60000 (64%)]\tLoss: 2.253836\n",
      "Train Epoch: 1 [44800/60000 (75%)]\tLoss: 2.260078\n",
      "Train Epoch: 1 [51200/60000 (85%)]\tLoss: 2.255423\n",
      "Train Epoch: 1 [57600/60000 (96%)]\tLoss: 2.256201\n",
      "\n",
      "Test set: Average loss: 2.2337, Accuracy: 3629/10000 (36%)\n",
      "\n",
      "Train Epoch: 2 [0/60000 (0%)]\tLoss: 2.229446\n",
      "Train Epoch: 2 [6400/60000 (11%)]\tLoss: 2.210552\n",
      "Train Epoch: 2 [12800/60000 (21%)]\tLoss: 2.208615\n",
      "Train Epoch: 2 [19200/60000 (32%)]\tLoss: 2.169799\n",
      "Train Epoch: 2 [25600/60000 (43%)]\tLoss: 2.183822\n",
      "Train Epoch: 2 [32000/60000 (53%)]\tLoss: 2.128182\n",
      "Train Epoch: 2 [38400/60000 (64%)]\tLoss: 2.143588\n",
      "Train Epoch: 2 [44800/60000 (75%)]\tLoss: 2.139709\n",
      "Train Epoch: 2 [51200/60000 (85%)]\tLoss: 2.104643\n",
      "Train Epoch: 2 [57600/60000 (96%)]\tLoss: 2.028487\n",
      "\n",
      "Test set: Average loss: 2.0400, Accuracy: 4202/10000 (42%)\n",
      "\n",
      "Train Epoch: 3 [0/60000 (0%)]\tLoss: 2.012073\n",
      "Train Epoch: 3 [6400/60000 (11%)]\tLoss: 2.041450\n",
      "Train Epoch: 3 [12800/60000 (21%)]\tLoss: 1.956179\n",
      "Train Epoch: 3 [19200/60000 (32%)]\tLoss: 1.898882\n",
      "Train Epoch: 3 [25600/60000 (43%)]\tLoss: 1.899365\n",
      "Train Epoch: 3 [32000/60000 (53%)]\tLoss: 1.827481\n",
      "Train Epoch: 3 [38400/60000 (64%)]\tLoss: 1.854843\n",
      "Train Epoch: 3 [44800/60000 (75%)]\tLoss: 1.813705\n",
      "Train Epoch: 3 [51200/60000 (85%)]\tLoss: 1.668969\n",
      "Train Epoch: 3 [57600/60000 (96%)]\tLoss: 1.677152\n",
      "\n",
      "Test set: Average loss: 1.6748, Accuracy: 5304/10000 (53%)\n",
      "\n",
      "Train Epoch: 4 [0/60000 (0%)]\tLoss: 1.675259\n",
      "Train Epoch: 4 [6400/60000 (11%)]\tLoss: 1.630018\n",
      "Train Epoch: 4 [12800/60000 (21%)]\tLoss: 1.621622\n",
      "Train Epoch: 4 [19200/60000 (32%)]\tLoss: 1.483960\n",
      "Train Epoch: 4 [25600/60000 (43%)]\tLoss: 1.446516\n",
      "Train Epoch: 4 [32000/60000 (53%)]\tLoss: 1.672136\n",
      "Train Epoch: 4 [38400/60000 (64%)]\tLoss: 1.468814\n",
      "Train Epoch: 4 [44800/60000 (75%)]\tLoss: 1.470024\n",
      "Train Epoch: 4 [51200/60000 (85%)]\tLoss: 1.516566\n",
      "Train Epoch: 4 [57600/60000 (96%)]\tLoss: 1.271922\n",
      "\n",
      "Test set: Average loss: 1.3661, Accuracy: 6211/10000 (62%)\n",
      "\n",
      "Train Epoch: 5 [0/60000 (0%)]\tLoss: 1.570495\n",
      "Train Epoch: 5 [6400/60000 (11%)]\tLoss: 1.438769\n",
      "Train Epoch: 5 [12800/60000 (21%)]\tLoss: 1.242720\n",
      "Train Epoch: 5 [19200/60000 (32%)]\tLoss: 1.299582\n",
      "Train Epoch: 5 [25600/60000 (43%)]\tLoss: 1.196139\n",
      "Train Epoch: 5 [32000/60000 (53%)]\tLoss: 1.219993\n",
      "Train Epoch: 5 [38400/60000 (64%)]\tLoss: 1.218601\n",
      "Train Epoch: 5 [44800/60000 (75%)]\tLoss: 1.179515\n",
      "Train Epoch: 5 [51200/60000 (85%)]\tLoss: 1.132129\n",
      "Train Epoch: 5 [57600/60000 (96%)]\tLoss: 1.194156\n",
      "\n",
      "Test set: Average loss: 1.1354, Accuracy: 6883/10000 (69%)\n",
      "\n",
      "Train Epoch: 6 [0/60000 (0%)]\tLoss: 1.121757\n",
      "Train Epoch: 6 [6400/60000 (11%)]\tLoss: 1.081280\n",
      "Train Epoch: 6 [12800/60000 (21%)]\tLoss: 1.165390\n",
      "Train Epoch: 6 [19200/60000 (32%)]\tLoss: 1.221358\n",
      "Train Epoch: 6 [25600/60000 (43%)]\tLoss: 1.243934\n",
      "Train Epoch: 6 [32000/60000 (53%)]\tLoss: 1.054086\n",
      "Train Epoch: 6 [38400/60000 (64%)]\tLoss: 1.120823\n",
      "Train Epoch: 6 [44800/60000 (75%)]\tLoss: 1.048095\n",
      "Train Epoch: 6 [51200/60000 (85%)]\tLoss: 1.057756\n",
      "Train Epoch: 6 [57600/60000 (96%)]\tLoss: 0.996772\n",
      "\n",
      "Test set: Average loss: 0.9682, Accuracy: 7397/10000 (74%)\n",
      "\n",
      "Train Epoch: 7 [0/60000 (0%)]\tLoss: 0.971716\n",
      "Train Epoch: 7 [6400/60000 (11%)]\tLoss: 0.806575\n",
      "Train Epoch: 7 [12800/60000 (21%)]\tLoss: 1.018547\n",
      "Train Epoch: 7 [19200/60000 (32%)]\tLoss: 0.950208\n",
      "Train Epoch: 7 [25600/60000 (43%)]\tLoss: 0.929877\n",
      "Train Epoch: 7 [32000/60000 (53%)]\tLoss: 0.857877\n",
      "Train Epoch: 7 [38400/60000 (64%)]\tLoss: 0.904278\n",
      "Train Epoch: 7 [44800/60000 (75%)]\tLoss: 0.883572\n",
      "Train Epoch: 7 [51200/60000 (85%)]\tLoss: 0.778016\n",
      "Train Epoch: 7 [57600/60000 (96%)]\tLoss: 0.773858\n",
      "\n",
      "Test set: Average loss: 0.8432, Accuracy: 7788/10000 (78%)\n",
      "\n",
      "Train Epoch: 8 [0/60000 (0%)]\tLoss: 0.921963\n",
      "Train Epoch: 8 [6400/60000 (11%)]\tLoss: 0.856537\n",
      "Train Epoch: 8 [12800/60000 (21%)]\tLoss: 0.859772\n",
      "Train Epoch: 8 [19200/60000 (32%)]\tLoss: 0.716547\n",
      "Train Epoch: 8 [25600/60000 (43%)]\tLoss: 0.750862\n",
      "Train Epoch: 8 [32000/60000 (53%)]\tLoss: 0.725280\n",
      "Train Epoch: 8 [38400/60000 (64%)]\tLoss: 0.649747\n",
      "Train Epoch: 8 [44800/60000 (75%)]\tLoss: 0.940759\n",
      "Train Epoch: 8 [51200/60000 (85%)]\tLoss: 0.681853\n",
      "Train Epoch: 8 [57600/60000 (96%)]\tLoss: 0.699215\n",
      "\n",
      "Test set: Average loss: 0.7470, Accuracy: 8161/10000 (82%)\n",
      "\n",
      "Train Epoch: 9 [0/60000 (0%)]\tLoss: 0.735351\n",
      "Train Epoch: 9 [6400/60000 (11%)]\tLoss: 0.728183\n",
      "Train Epoch: 9 [12800/60000 (21%)]\tLoss: 0.663288\n",
      "Train Epoch: 9 [19200/60000 (32%)]\tLoss: 0.765400\n",
      "Train Epoch: 9 [25600/60000 (43%)]\tLoss: 0.836757\n",
      "Train Epoch: 9 [32000/60000 (53%)]\tLoss: 0.773312\n",
      "Train Epoch: 9 [38400/60000 (64%)]\tLoss: 0.776115\n",
      "Train Epoch: 9 [44800/60000 (75%)]\tLoss: 0.689468\n",
      "Train Epoch: 9 [51200/60000 (85%)]\tLoss: 0.669639\n",
      "Train Epoch: 9 [57600/60000 (96%)]\tLoss: 0.743431\n",
      "\n",
      "Test set: Average loss: 0.6724, Accuracy: 8368/10000 (84%)\n",
      "\n",
      "Train Epoch: 10 [0/60000 (0%)]\tLoss: 0.781382\n",
      "Train Epoch: 10 [6400/60000 (11%)]\tLoss: 0.718693\n",
      "Train Epoch: 10 [12800/60000 (21%)]\tLoss: 0.637344\n",
      "Train Epoch: 10 [19200/60000 (32%)]\tLoss: 0.700109\n",
      "Train Epoch: 10 [25600/60000 (43%)]\tLoss: 0.763138\n",
      "Train Epoch: 10 [32000/60000 (53%)]\tLoss: 0.779154\n",
      "Train Epoch: 10 [38400/60000 (64%)]\tLoss: 0.641700\n",
      "Train Epoch: 10 [44800/60000 (75%)]\tLoss: 0.617503\n",
      "Train Epoch: 10 [51200/60000 (85%)]\tLoss: 0.582087\n",
      "Train Epoch: 10 [57600/60000 (96%)]\tLoss: 0.571624\n",
      "\n",
      "Test set: Average loss: 0.6134, Accuracy: 8529/10000 (85%)\n",
      "\n"
     ]
    }
   ],
   "source": [
    "for epoch in range(1, epochs + 1):\n",
    "    train(model3, device, train_loader, optimizer3, epoch)\n",
    "    test(model3, device, test_loader)"
   ]
  },
  {
   "cell_type": "raw",
   "metadata": {},
   "source": [
    "test_batch_size"
   ]
  },
  {
   "cell_type": "code",
   "execution_count": 19,
   "metadata": {},
   "outputs": [],
   "source": [
    "sample = next(iter(test_loader))[0].view(-1, 784)"
   ]
  },
  {
   "cell_type": "code",
   "execution_count": 20,
   "metadata": {},
   "outputs": [
    {
     "data": {
      "text/plain": [
       "torch.Size([1000, 784])"
      ]
     },
     "execution_count": 20,
     "metadata": {},
     "output_type": "execute_result"
    }
   ],
   "source": [
    "sample.shape"
   ]
  },
  {
   "cell_type": "code",
   "execution_count": 21,
   "metadata": {},
   "outputs": [],
   "source": [
    "r1, r2 = model3.extract(sample)"
   ]
  },
  {
   "cell_type": "code",
   "execution_count": 22,
   "metadata": {},
   "outputs": [
    {
     "name": "stdout",
     "output_type": "stream",
     "text": [
      "tensor([[0.9876, 0.1186, 0.5038,  ..., 0.9928, 0.8653, 0.9943],\n",
      "        [0.4747, 0.9309, 0.8093,  ..., 0.3971, 0.2847, 0.8456],\n",
      "        [0.9764, 0.9787, 0.9045,  ..., 0.2225, 0.0378, 0.1355],\n",
      "        ...,\n",
      "        [0.8427, 0.3655, 0.7764,  ..., 0.9984, 0.8792, 0.9982],\n",
      "        [0.6864, 0.9950, 0.9870,  ..., 0.6522, 0.0763, 0.8377],\n",
      "        [0.0154, 0.0080, 0.9814,  ..., 0.0152, 0.0046, 0.0045]],\n",
      "       grad_fn=<SigmoidBackward>) tensor([[0.9626, 0.3312, 0.4722,  ..., 0.1003, 0.4627, 0.8755],\n",
      "        [0.0610, 0.7652, 0.2919,  ..., 0.9704, 0.3671, 0.1261],\n",
      "        [0.1907, 0.7593, 0.6767,  ..., 0.8188, 0.7372, 0.1453],\n",
      "        ...,\n",
      "        [0.8939, 0.4285, 0.2371,  ..., 0.5358, 0.2327, 0.8294],\n",
      "        [0.1463, 0.8762, 0.3857,  ..., 0.9541, 0.3199, 0.2446],\n",
      "        [0.9717, 0.6905, 0.8413,  ..., 0.0686, 0.1343, 0.9310]],\n",
      "       grad_fn=<SigmoidBackward>)\n"
     ]
    }
   ],
   "source": [
    "print(r1,r2)"
   ]
  },
  {
   "cell_type": "code",
   "execution_count": 23,
   "metadata": {},
   "outputs": [
    {
     "name": "stdout",
     "output_type": "stream",
     "text": [
      "torch.Size([1000, 50])\n"
     ]
    }
   ],
   "source": [
    "print(r1.shape)"
   ]
  },
  {
   "cell_type": "code",
   "execution_count": 24,
   "metadata": {},
   "outputs": [],
   "source": [
    "r1 = r1.detach().numpy()\n",
    "r2 = r2.detach().numpy()"
   ]
  },
  {
   "cell_type": "code",
   "execution_count": 25,
   "metadata": {},
   "outputs": [],
   "source": [
    "#h1 = h1.detach().numpy()\n",
    "#h2 = h2.detach().numpy()"
   ]
  },
  {
   "cell_type": "code",
   "execution_count": 26,
   "metadata": {},
   "outputs": [],
   "source": [
    "e1 = TSNE(n_components=2).fit_transform(r1)\n",
    "e2 = TSNE(n_components=2).fit_transform(r2)"
   ]
  },
  {
   "cell_type": "code",
   "execution_count": 27,
   "metadata": {},
   "outputs": [
    {
     "data": {
      "text/plain": [
       "(1000, 2)"
      ]
     },
     "execution_count": 27,
     "metadata": {},
     "output_type": "execute_result"
    }
   ],
   "source": [
    "e1.shape"
   ]
  },
  {
   "cell_type": "code",
   "execution_count": 28,
   "metadata": {},
   "outputs": [
    {
     "data": {
      "text/plain": [
       "(1000, 50)"
      ]
     },
     "execution_count": 28,
     "metadata": {},
     "output_type": "execute_result"
    }
   ],
   "source": [
    "r1.shape"
   ]
  },
  {
   "cell_type": "code",
   "execution_count": 29,
   "metadata": {},
   "outputs": [
    {
     "data": {
      "text/plain": [
       "[<matplotlib.lines.Line2D at 0x7f2cfc04ea90>]"
      ]
     },
     "execution_count": 29,
     "metadata": {},
     "output_type": "execute_result"
    },
    {
     "data": {
      "image/png": "[encoded data removed]",
      "text/plain": [
       "<Figure size 432x288 with 1 Axes>"
      ]
     },
     "metadata": {
      "needs_background": "light"
     },
     "output_type": "display_data"
    }
   ],
   "source": [
    "plt.plot(e1[:,0],e1[:,1], '.')"
   ]
  },
  {
   "cell_type": "code",
   "execution_count": 30,
   "metadata": {},
   "outputs": [
    {
     "data": {
      "text/plain": [
       "[<matplotlib.lines.Line2D at 0x7f2cfc1d2d68>]"
      ]
     },
     "execution_count": 30,
     "metadata": {},
     "output_type": "execute_result"
    },
    {
     "data": {
      "image/png": "[encoded data removed]",
      "text/plain": [
       "<Figure size 432x288 with 1 Axes>"
      ]
     },
     "metadata": {
      "needs_background": "light"
     },
     "output_type": "display_data"
    }
   ],
   "source": [
    "plt.plot(e2[:,0],e2[:,1], '.')"
   ]
  },
  {
   "cell_type": "code",
   "execution_count": 31,
   "metadata": {},
   "outputs": [],
   "source": [
    "# Density peak clustering"
   ]
  },
  {
   "cell_type": "markdown",
   "metadata": {},
   "source": [
    "x -> h1 -> h2 -....-> "
   ]
  },
  {
   "cell_type": "code",
   "execution_count": 32,
   "metadata": {},
   "outputs": [],
   "source": [
    "out = model3(sample)"
   ]
  },
  {
   "cell_type": "code",
   "execution_count": 33,
   "metadata": {},
   "outputs": [],
   "source": [
    "out = out.detach().numpy()"
   ]
  },
  {
   "cell_type": "code",
   "execution_count": 34,
   "metadata": {},
   "outputs": [],
   "source": [
    "e3 = TSNE(n_components=2).fit_transform(out)"
   ]
  },
  {
   "cell_type": "code",
   "execution_count": 35,
   "metadata": {},
   "outputs": [
    {
     "data": {
      "text/plain": [
       "[<matplotlib.lines.Line2D at 0x7f2cfc0e01d0>]"
      ]
     },
     "execution_count": 35,
     "metadata": {},
     "output_type": "execute_result"
    },
    {
     "data": {
      "image/png": "[encoded data removed]",
      "text/plain": [
       "<Figure size 432x288 with 1 Axes>"
      ]
     },
     "metadata": {
      "needs_background": "light"
     },
     "output_type": "display_data"
    }
   ],
   "source": [
    "plt.plot(e3[:,0],e3[:,1], '.')"
   ]
  },
  {
   "cell_type": "markdown",
   "metadata": {},
   "source": [
    "$\\theta$ = $\\theta$ - $\\alpha$ ( grad L + $\\lambda$ $\\theta$) "
   ]
  },
  {
   "cell_type": "code",
   "execution_count": 36,
   "metadata": {},
   "outputs": [
    {
     "data": {
      "text/plain": [
       "\u001b[0;31mInit signature:\u001b[0m\n",
       "\u001b[0moptim\u001b[0m\u001b[0;34m.\u001b[0m\u001b[0mSGD\u001b[0m\u001b[0;34m(\u001b[0m\u001b[0;34m\u001b[0m\n",
       "\u001b[0;34m\u001b[0m    \u001b[0mparams\u001b[0m\u001b[0;34m,\u001b[0m\u001b[0;34m\u001b[0m\n",
       "\u001b[0;34m\u001b[0m    \u001b[0mlr\u001b[0m\u001b[0;34m=\u001b[0m\u001b[0;34m<\u001b[0m\u001b[0mrequired\u001b[0m \u001b[0mparameter\u001b[0m\u001b[0;34m>\u001b[0m\u001b[0;34m,\u001b[0m\u001b[0;34m\u001b[0m\n",
       "\u001b[0;34m\u001b[0m    \u001b[0mmomentum\u001b[0m\u001b[0;34m=\u001b[0m\u001b[0;36m0\u001b[0m\u001b[0;34m,\u001b[0m\u001b[0;34m\u001b[0m\n",
       "\u001b[0;34m\u001b[0m    \u001b[0mdampening\u001b[0m\u001b[0;34m=\u001b[0m\u001b[0;36m0\u001b[0m\u001b[0;34m,\u001b[0m\u001b[0;34m\u001b[0m\n",
       "\u001b[0;34m\u001b[0m    \u001b[0mweight_decay\u001b[0m\u001b[0;34m=\u001b[0m\u001b[0;36m0\u001b[0m\u001b[0;34m,\u001b[0m\u001b[0;34m\u001b[0m\n",
       "\u001b[0;34m\u001b[0m    \u001b[0mnesterov\u001b[0m\u001b[0;34m=\u001b[0m\u001b[0;32mFalse\u001b[0m\u001b[0;34m,\u001b[0m\u001b[0;34m\u001b[0m\n",
       "\u001b[0;34m\u001b[0m\u001b[0;34m)\u001b[0m\u001b[0;34m\u001b[0m\u001b[0;34m\u001b[0m\u001b[0m\n",
       "\u001b[0;31mSource:\u001b[0m        \n",
       "\u001b[0;32mclass\u001b[0m \u001b[0mSGD\u001b[0m\u001b[0;34m(\u001b[0m\u001b[0mOptimizer\u001b[0m\u001b[0;34m)\u001b[0m\u001b[0;34m:\u001b[0m\u001b[0;34m\u001b[0m\n",
       "\u001b[0;34m\u001b[0m    \u001b[0;34mr\"\"\"Implements stochastic gradient descent (optionally with momentum).\u001b[0m\n",
       "\u001b[0;34m\u001b[0m\n",
       "\u001b[0;34m    Nesterov momentum is based on the formula from\u001b[0m\n",
       "\u001b[0;34m    `On the importance of initialization and momentum in deep learning`__.\u001b[0m\n",
       "\u001b[0;34m\u001b[0m\n",
       "\u001b[0;34m    Args:\u001b[0m\n",
       "\u001b[0;34m        params (iterable): iterable of parameters to optimize or dicts defining\u001b[0m\n",
       "\u001b[0;34m            parameter groups\u001b[0m\n",
       "\u001b[0;34m        lr (float): learning rate\u001b[0m\n",
       "\u001b[0;34m        momentum (float, optional): momentum factor (default: 0)\u001b[0m\n",
       "\u001b[0;34m        weight_decay (float, optional): weight decay (L2 penalty) (default: 0)\u001b[0m\n",
       "\u001b[0;34m        dampening (float, optional): dampening for momentum (default: 0)\u001b[0m\n",
       "\u001b[0;34m        nesterov (bool, optional): enables Nesterov momentum (default: False)\u001b[0m\n",
       "\u001b[0;34m\u001b[0m\n",
       "\u001b[0;34m    Example:\u001b[0m\n",
       "\u001b[0;34m        >>> optimizer = torch.optim.SGD(model.parameters(), lr=0.1, momentum=0.9)\u001b[0m\n",
       "\u001b[0;34m        >>> optimizer.zero_grad()\u001b[0m\n",
       "\u001b[0;34m        >>> loss_fn(model(input), target).backward()\u001b[0m\n",
       "\u001b[0;34m        >>> optimizer.step()\u001b[0m\n",
       "\u001b[0;34m\u001b[0m\n",
       "\u001b[0;34m    __ http://www.cs.toronto.edu/%7Ehinton/absps/momentum.pdf\u001b[0m\n",
       "\u001b[0;34m\u001b[0m\n",
       "\u001b[0;34m    .. note::\u001b[0m\n",
       "\u001b[0;34m        The implementation of SGD with Momentum/Nesterov subtly differs from\u001b[0m\n",
       "\u001b[0;34m        Sutskever et. al. and implementations in some other frameworks.\u001b[0m\n",
       "\u001b[0;34m\u001b[0m\n",
       "\u001b[0;34m        Considering the specific case of Momentum, the update can be written as\u001b[0m\n",
       "\u001b[0;34m\u001b[0m\n",
       "\u001b[0;34m        .. math::\u001b[0m\n",
       "\u001b[0;34m            \\begin{aligned}\u001b[0m\n",
       "\u001b[0;34m                v_{t+1} & = \\mu * v_{t} + g_{t+1}, \\\\\u001b[0m\n",
       "\u001b[0;34m                p_{t+1} & = p_{t} - \\text{lr} * v_{t+1},\u001b[0m\n",
       "\u001b[0;34m            \\end{aligned}\u001b[0m\n",
       "\u001b[0;34m\u001b[0m\n",
       "\u001b[0;34m        where :math:`p`, :math:`g`, :math:`v` and :math:`\\mu` denote the \u001b[0m\n",
       "\u001b[0;34m        parameters, gradient, velocity, and momentum respectively.\u001b[0m\n",
       "\u001b[0;34m\u001b[0m\n",
       "\u001b[0;34m        This is in contrast to Sutskever et. al. and\u001b[0m\n",
       "\u001b[0;34m        other frameworks which employ an update of the form\u001b[0m\n",
       "\u001b[0;34m\u001b[0m\n",
       "\u001b[0;34m        .. math::\u001b[0m\n",
       "\u001b[0;34m            \\begin{aligned}\u001b[0m\n",
       "\u001b[0;34m                v_{t+1} & = \\mu * v_{t} + \\text{lr} * g_{t+1}, \\\\\u001b[0m\n",
       "\u001b[0;34m                p_{t+1} & = p_{t} - v_{t+1}.\u001b[0m\n",
       "\u001b[0;34m            \\end{aligned}\u001b[0m\n",
       "\u001b[0;34m\u001b[0m\n",
       "\u001b[0;34m        The Nesterov version is analogously modified.\u001b[0m\n",
       "\u001b[0;34m    \"\"\"\u001b[0m\u001b[0;34m\u001b[0m\n",
       "\u001b[0;34m\u001b[0m\u001b[0;34m\u001b[0m\n",
       "\u001b[0;34m\u001b[0m    \u001b[0;32mdef\u001b[0m \u001b[0m__init__\u001b[0m\u001b[0;34m(\u001b[0m\u001b[0mself\u001b[0m\u001b[0;34m,\u001b[0m \u001b[0mparams\u001b[0m\u001b[0;34m,\u001b[0m \u001b[0mlr\u001b[0m\u001b[0;34m=\u001b[0m\u001b[0mrequired\u001b[0m\u001b[0;34m,\u001b[0m \u001b[0mmomentum\u001b[0m\u001b[0;34m=\u001b[0m\u001b[0;36m0\u001b[0m\u001b[0;34m,\u001b[0m \u001b[0mdampening\u001b[0m\u001b[0;34m=\u001b[0m\u001b[0;36m0\u001b[0m\u001b[0;34m,\u001b[0m\u001b[0;34m\u001b[0m\n",
       "\u001b[0;34m\u001b[0m                 \u001b[0mweight_decay\u001b[0m\u001b[0;34m=\u001b[0m\u001b[0;36m0\u001b[0m\u001b[0;34m,\u001b[0m \u001b[0mnesterov\u001b[0m\u001b[0;34m=\u001b[0m\u001b[0;32mFalse\u001b[0m\u001b[0;34m)\u001b[0m\u001b[0;34m:\u001b[0m\u001b[0;34m\u001b[0m\n",
       "\u001b[0;34m\u001b[0m        \u001b[0;32mif\u001b[0m \u001b[0mlr\u001b[0m \u001b[0;32mis\u001b[0m \u001b[0;32mnot\u001b[0m \u001b[0mrequired\u001b[0m \u001b[0;32mand\u001b[0m \u001b[0mlr\u001b[0m \u001b[0;34m<\u001b[0m \u001b[0;36m0.0\u001b[0m\u001b[0;34m:\u001b[0m\u001b[0;34m\u001b[0m\n",
       "\u001b[0;34m\u001b[0m            \u001b[0;32mraise\u001b[0m \u001b[0mValueError\u001b[0m\u001b[0;34m(\u001b[0m\u001b[0;34m\"Invalid learning rate: {}\"\u001b[0m\u001b[0;34m.\u001b[0m\u001b[0mformat\u001b[0m\u001b[0;34m(\u001b[0m\u001b[0mlr\u001b[0m\u001b[0;34m)\u001b[0m\u001b[0;34m)\u001b[0m\u001b[0;34m\u001b[0m\n",
       "\u001b[0;34m\u001b[0m        \u001b[0;32mif\u001b[0m \u001b[0mmomentum\u001b[0m \u001b[0;34m<\u001b[0m \u001b[0;36m0.0\u001b[0m\u001b[0;34m:\u001b[0m\u001b[0;34m\u001b[0m\n",
       "\u001b[0;34m\u001b[0m            \u001b[0;32mraise\u001b[0m \u001b[0mValueError\u001b[0m\u001b[0;34m(\u001b[0m\u001b[0;34m\"Invalid momentum value: {}\"\u001b[0m\u001b[0;34m.\u001b[0m\u001b[0mformat\u001b[0m\u001b[0;34m(\u001b[0m\u001b[0mmomentum\u001b[0m\u001b[0;34m)\u001b[0m\u001b[0;34m)\u001b[0m\u001b[0;34m\u001b[0m\n",
       "\u001b[0;34m\u001b[0m        \u001b[0;32mif\u001b[0m \u001b[0mweight_decay\u001b[0m \u001b[0;34m<\u001b[0m \u001b[0;36m0.0\u001b[0m\u001b[0;34m:\u001b[0m\u001b[0;34m\u001b[0m\n",
       "\u001b[0;34m\u001b[0m            \u001b[0;32mraise\u001b[0m \u001b[0mValueError\u001b[0m\u001b[0;34m(\u001b[0m\u001b[0;34m\"Invalid weight_decay value: {}\"\u001b[0m\u001b[0;34m.\u001b[0m\u001b[0mformat\u001b[0m\u001b[0;34m(\u001b[0m\u001b[0mweight_decay\u001b[0m\u001b[0;34m)\u001b[0m\u001b[0;34m)\u001b[0m\u001b[0;34m\u001b[0m\n",
       "\u001b[0;34m\u001b[0m\u001b[0;34m\u001b[0m\n",
       "\u001b[0;34m\u001b[0m        \u001b[0mdefaults\u001b[0m \u001b[0;34m=\u001b[0m \u001b[0mdict\u001b[0m\u001b[0;34m(\u001b[0m\u001b[0mlr\u001b[0m\u001b[0;34m=\u001b[0m\u001b[0mlr\u001b[0m\u001b[0;34m,\u001b[0m \u001b[0mmomentum\u001b[0m\u001b[0;34m=\u001b[0m\u001b[0mmomentum\u001b[0m\u001b[0;34m,\u001b[0m \u001b[0mdampening\u001b[0m\u001b[0;34m=\u001b[0m\u001b[0mdampening\u001b[0m\u001b[0;34m,\u001b[0m\u001b[0;34m\u001b[0m\n",
       "\u001b[0;34m\u001b[0m                        \u001b[0mweight_decay\u001b[0m\u001b[0;34m=\u001b[0m\u001b[0mweight_decay\u001b[0m\u001b[0;34m,\u001b[0m \u001b[0mnesterov\u001b[0m\u001b[0;34m=\u001b[0m\u001b[0mnesterov\u001b[0m\u001b[0;34m)\u001b[0m\u001b[0;34m\u001b[0m\n",
       "\u001b[0;34m\u001b[0m        \u001b[0;32mif\u001b[0m \u001b[0mnesterov\u001b[0m \u001b[0;32mand\u001b[0m \u001b[0;34m(\u001b[0m\u001b[0mmomentum\u001b[0m \u001b[0;34m<=\u001b[0m \u001b[0;36m0\u001b[0m \u001b[0;32mor\u001b[0m \u001b[0mdampening\u001b[0m \u001b[0;34m!=\u001b[0m \u001b[0;36m0\u001b[0m\u001b[0;34m)\u001b[0m\u001b[0;34m:\u001b[0m\u001b[0;34m\u001b[0m\n",
       "\u001b[0;34m\u001b[0m            \u001b[0;32mraise\u001b[0m \u001b[0mValueError\u001b[0m\u001b[0;34m(\u001b[0m\u001b[0;34m\"Nesterov momentum requires a momentum and zero dampening\"\u001b[0m\u001b[0;34m)\u001b[0m\u001b[0;34m\u001b[0m\n",
       "\u001b[0;34m\u001b[0m        \u001b[0msuper\u001b[0m\u001b[0;34m(\u001b[0m\u001b[0mSGD\u001b[0m\u001b[0;34m,\u001b[0m \u001b[0mself\u001b[0m\u001b[0;34m)\u001b[0m\u001b[0;34m.\u001b[0m\u001b[0m__init__\u001b[0m\u001b[0;34m(\u001b[0m\u001b[0mparams\u001b[0m\u001b[0;34m,\u001b[0m \u001b[0mdefaults\u001b[0m\u001b[0;34m)\u001b[0m\u001b[0;34m\u001b[0m\n",
       "\u001b[0;34m\u001b[0m\u001b[0;34m\u001b[0m\n",
       "\u001b[0;34m\u001b[0m    \u001b[0;32mdef\u001b[0m \u001b[0m__setstate__\u001b[0m\u001b[0;34m(\u001b[0m\u001b[0mself\u001b[0m\u001b[0;34m,\u001b[0m \u001b[0mstate\u001b[0m\u001b[0;34m)\u001b[0m\u001b[0;34m:\u001b[0m\u001b[0;34m\u001b[0m\n",
       "\u001b[0;34m\u001b[0m        \u001b[0msuper\u001b[0m\u001b[0;34m(\u001b[0m\u001b[0mSGD\u001b[0m\u001b[0;34m,\u001b[0m \u001b[0mself\u001b[0m\u001b[0;34m)\u001b[0m\u001b[0;34m.\u001b[0m\u001b[0m__setstate__\u001b[0m\u001b[0;34m(\u001b[0m\u001b[0mstate\u001b[0m\u001b[0;34m)\u001b[0m\u001b[0;34m\u001b[0m\n",
       "\u001b[0;34m\u001b[0m        \u001b[0;32mfor\u001b[0m \u001b[0mgroup\u001b[0m \u001b[0;32min\u001b[0m \u001b[0mself\u001b[0m\u001b[0;34m.\u001b[0m\u001b[0mparam_groups\u001b[0m\u001b[0;34m:\u001b[0m\u001b[0;34m\u001b[0m\n",
       "\u001b[0;34m\u001b[0m            \u001b[0mgroup\u001b[0m\u001b[0;34m.\u001b[0m\u001b[0msetdefault\u001b[0m\u001b[0;34m(\u001b[0m\u001b[0;34m'nesterov'\u001b[0m\u001b[0;34m,\u001b[0m \u001b[0;32mFalse\u001b[0m\u001b[0;34m)\u001b[0m\u001b[0;34m\u001b[0m\n",
       "\u001b[0;34m\u001b[0m\u001b[0;34m\u001b[0m\n",
       "\u001b[0;34m\u001b[0m    \u001b[0;34m@\u001b[0m\u001b[0mtorch\u001b[0m\u001b[0;34m.\u001b[0m\u001b[0mno_grad\u001b[0m\u001b[0;34m(\u001b[0m\u001b[0;34m)\u001b[0m\u001b[0;34m\u001b[0m\n",
       "\u001b[0;34m\u001b[0m    \u001b[0;32mdef\u001b[0m \u001b[0mstep\u001b[0m\u001b[0;34m(\u001b[0m\u001b[0mself\u001b[0m\u001b[0;34m,\u001b[0m \u001b[0mclosure\u001b[0m\u001b[0;34m=\u001b[0m\u001b[0;32mNone\u001b[0m\u001b[0;34m)\u001b[0m\u001b[0;34m:\u001b[0m\u001b[0;34m\u001b[0m\n",
       "\u001b[0;34m\u001b[0m        \u001b[0;34m\"\"\"Performs a single optimization step.\u001b[0m\n",
       "\u001b[0;34m\u001b[0m\n",
       "\u001b[0;34m        Arguments:\u001b[0m\n",
       "\u001b[0;34m            closure (callable, optional): A closure that reevaluates the model\u001b[0m\n",
       "\u001b[0;34m                and returns the loss.\u001b[0m\n",
       "\u001b[0;34m        \"\"\"\u001b[0m\u001b[0;34m\u001b[0m\n",
       "\u001b[0;34m\u001b[0m        \u001b[0mloss\u001b[0m \u001b[0;34m=\u001b[0m \u001b[0;32mNone\u001b[0m\u001b[0;34m\u001b[0m\n",
       "\u001b[0;34m\u001b[0m        \u001b[0;32mif\u001b[0m \u001b[0mclosure\u001b[0m \u001b[0;32mis\u001b[0m \u001b[0;32mnot\u001b[0m \u001b[0;32mNone\u001b[0m\u001b[0;34m:\u001b[0m\u001b[0;34m\u001b[0m\n",
       "\u001b[0;34m\u001b[0m            \u001b[0;32mwith\u001b[0m \u001b[0mtorch\u001b[0m\u001b[0;34m.\u001b[0m\u001b[0menable_grad\u001b[0m\u001b[0;34m(\u001b[0m\u001b[0;34m)\u001b[0m\u001b[0;34m:\u001b[0m\u001b[0;34m\u001b[0m\n",
       "\u001b[0;34m\u001b[0m                \u001b[0mloss\u001b[0m \u001b[0;34m=\u001b[0m \u001b[0mclosure\u001b[0m\u001b[0;34m(\u001b[0m\u001b[0;34m)\u001b[0m\u001b[0;34m\u001b[0m\n",
       "\u001b[0;34m\u001b[0m\u001b[0;34m\u001b[0m\n",
       "\u001b[0;34m\u001b[0m        \u001b[0;32mfor\u001b[0m \u001b[0mgroup\u001b[0m \u001b[0;32min\u001b[0m \u001b[0mself\u001b[0m\u001b[0;34m.\u001b[0m\u001b[0mparam_groups\u001b[0m\u001b[0;34m:\u001b[0m\u001b[0;34m\u001b[0m\n",
       "\u001b[0;34m\u001b[0m            \u001b[0mweight_decay\u001b[0m \u001b[0;34m=\u001b[0m \u001b[0mgroup\u001b[0m\u001b[0;34m[\u001b[0m\u001b[0;34m'weight_decay'\u001b[0m\u001b[0;34m]\u001b[0m\u001b[0;34m\u001b[0m\n",
       "\u001b[0;34m\u001b[0m            \u001b[0mmomentum\u001b[0m \u001b[0;34m=\u001b[0m \u001b[0mgroup\u001b[0m\u001b[0;34m[\u001b[0m\u001b[0;34m'momentum'\u001b[0m\u001b[0;34m]\u001b[0m\u001b[0;34m\u001b[0m\n",
       "\u001b[0;34m\u001b[0m            \u001b[0mdampening\u001b[0m \u001b[0;34m=\u001b[0m \u001b[0mgroup\u001b[0m\u001b[0;34m[\u001b[0m\u001b[0;34m'dampening'\u001b[0m\u001b[0;34m]\u001b[0m\u001b[0;34m\u001b[0m\n",
       "\u001b[0;34m\u001b[0m            \u001b[0mnesterov\u001b[0m \u001b[0;34m=\u001b[0m \u001b[0mgroup\u001b[0m\u001b[0;34m[\u001b[0m\u001b[0;34m'nesterov'\u001b[0m\u001b[0;34m]\u001b[0m\u001b[0;34m\u001b[0m\n",
       "\u001b[0;34m\u001b[0m\u001b[0;34m\u001b[0m\n",
       "\u001b[0;34m\u001b[0m            \u001b[0;32mfor\u001b[0m \u001b[0mp\u001b[0m \u001b[0;32min\u001b[0m \u001b[0mgroup\u001b[0m\u001b[0;34m[\u001b[0m\u001b[0;34m'params'\u001b[0m\u001b[0;34m]\u001b[0m\u001b[0;34m:\u001b[0m\u001b[0;34m\u001b[0m\n",
       "\u001b[0;34m\u001b[0m                \u001b[0;32mif\u001b[0m \u001b[0mp\u001b[0m\u001b[0;34m.\u001b[0m\u001b[0mgrad\u001b[0m \u001b[0;32mis\u001b[0m \u001b[0;32mNone\u001b[0m\u001b[0;34m:\u001b[0m\u001b[0;34m\u001b[0m\n",
       "\u001b[0;34m\u001b[0m                    \u001b[0;32mcontinue\u001b[0m\u001b[0;34m\u001b[0m\n",
       "\u001b[0;34m\u001b[0m                \u001b[0md_p\u001b[0m \u001b[0;34m=\u001b[0m \u001b[0mp\u001b[0m\u001b[0;34m.\u001b[0m\u001b[0mgrad\u001b[0m\u001b[0;34m\u001b[0m\n",
       "\u001b[0;34m\u001b[0m                \u001b[0;32mif\u001b[0m \u001b[0mweight_decay\u001b[0m \u001b[0;34m!=\u001b[0m \u001b[0;36m0\u001b[0m\u001b[0;34m:\u001b[0m\u001b[0;34m\u001b[0m\n",
       "\u001b[0;34m\u001b[0m                    \u001b[0md_p\u001b[0m \u001b[0;34m=\u001b[0m \u001b[0md_p\u001b[0m\u001b[0;34m.\u001b[0m\u001b[0madd\u001b[0m\u001b[0;34m(\u001b[0m\u001b[0mp\u001b[0m\u001b[0;34m,\u001b[0m \u001b[0malpha\u001b[0m\u001b[0;34m=\u001b[0m\u001b[0mweight_decay\u001b[0m\u001b[0;34m)\u001b[0m\u001b[0;34m\u001b[0m\n",
       "\u001b[0;34m\u001b[0m                \u001b[0;32mif\u001b[0m \u001b[0mmomentum\u001b[0m \u001b[0;34m!=\u001b[0m \u001b[0;36m0\u001b[0m\u001b[0;34m:\u001b[0m\u001b[0;34m\u001b[0m\n",
       "\u001b[0;34m\u001b[0m                    \u001b[0mparam_state\u001b[0m \u001b[0;34m=\u001b[0m \u001b[0mself\u001b[0m\u001b[0;34m.\u001b[0m\u001b[0mstate\u001b[0m\u001b[0;34m[\u001b[0m\u001b[0mp\u001b[0m\u001b[0;34m]\u001b[0m\u001b[0;34m\u001b[0m\n",
       "\u001b[0;34m\u001b[0m                    \u001b[0;32mif\u001b[0m \u001b[0;34m'momentum_buffer'\u001b[0m \u001b[0;32mnot\u001b[0m \u001b[0;32min\u001b[0m \u001b[0mparam_state\u001b[0m\u001b[0;34m:\u001b[0m\u001b[0;34m\u001b[0m\n",
       "\u001b[0;34m\u001b[0m                        \u001b[0mbuf\u001b[0m \u001b[0;34m=\u001b[0m \u001b[0mparam_state\u001b[0m\u001b[0;34m[\u001b[0m\u001b[0;34m'momentum_buffer'\u001b[0m\u001b[0;34m]\u001b[0m \u001b[0;34m=\u001b[0m \u001b[0mtorch\u001b[0m\u001b[0;34m.\u001b[0m\u001b[0mclone\u001b[0m\u001b[0;34m(\u001b[0m\u001b[0md_p\u001b[0m\u001b[0;34m)\u001b[0m\u001b[0;34m.\u001b[0m\u001b[0mdetach\u001b[0m\u001b[0;34m(\u001b[0m\u001b[0;34m)\u001b[0m\u001b[0;34m\u001b[0m\n",
       "\u001b[0;34m\u001b[0m                    \u001b[0;32melse\u001b[0m\u001b[0;34m:\u001b[0m\u001b[0;34m\u001b[0m\n",
       "\u001b[0;34m\u001b[0m                        \u001b[0mbuf\u001b[0m \u001b[0;34m=\u001b[0m \u001b[0mparam_state\u001b[0m\u001b[0;34m[\u001b[0m\u001b[0;34m'momentum_buffer'\u001b[0m\u001b[0;34m]\u001b[0m\u001b[0;34m\u001b[0m\n",
       "\u001b[0;34m\u001b[0m                        \u001b[0mbuf\u001b[0m\u001b[0;34m.\u001b[0m\u001b[0mmul_\u001b[0m\u001b[0;34m(\u001b[0m\u001b[0mmomentum\u001b[0m\u001b[0;34m)\u001b[0m\u001b[0;34m.\u001b[0m\u001b[0madd_\u001b[0m\u001b[0;34m(\u001b[0m\u001b[0md_p\u001b[0m\u001b[0;34m,\u001b[0m \u001b[0malpha\u001b[0m\u001b[0;34m=\u001b[0m\u001b[0;36m1\u001b[0m \u001b[0;34m-\u001b[0m \u001b[0mdampening\u001b[0m\u001b[0;34m)\u001b[0m\u001b[0;34m\u001b[0m\n",
       "\u001b[0;34m\u001b[0m                    \u001b[0;32mif\u001b[0m \u001b[0mnesterov\u001b[0m\u001b[0;34m:\u001b[0m\u001b[0;34m\u001b[0m\n",
       "\u001b[0;34m\u001b[0m                        \u001b[0md_p\u001b[0m \u001b[0;34m=\u001b[0m \u001b[0md_p\u001b[0m\u001b[0;34m.\u001b[0m\u001b[0madd\u001b[0m\u001b[0;34m(\u001b[0m\u001b[0mbuf\u001b[0m\u001b[0;34m,\u001b[0m \u001b[0malpha\u001b[0m\u001b[0;34m=\u001b[0m\u001b[0mmomentum\u001b[0m\u001b[0;34m)\u001b[0m\u001b[0;34m\u001b[0m\n",
       "\u001b[0;34m\u001b[0m                    \u001b[0;32melse\u001b[0m\u001b[0;34m:\u001b[0m\u001b[0;34m\u001b[0m\n",
       "\u001b[0;34m\u001b[0m                        \u001b[0md_p\u001b[0m \u001b[0;34m=\u001b[0m \u001b[0mbuf\u001b[0m\u001b[0;34m\u001b[0m\n",
       "\u001b[0;34m\u001b[0m\u001b[0;34m\u001b[0m\n",
       "\u001b[0;34m\u001b[0m                \u001b[0mp\u001b[0m\u001b[0;34m.\u001b[0m\u001b[0madd_\u001b[0m\u001b[0;34m(\u001b[0m\u001b[0md_p\u001b[0m\u001b[0;34m,\u001b[0m \u001b[0malpha\u001b[0m\u001b[0;34m=\u001b[0m\u001b[0;34m-\u001b[0m\u001b[0mgroup\u001b[0m\u001b[0;34m[\u001b[0m\u001b[0;34m'lr'\u001b[0m\u001b[0;34m]\u001b[0m\u001b[0;34m)\u001b[0m\u001b[0;34m\u001b[0m\n",
       "\u001b[0;34m\u001b[0m\u001b[0;34m\u001b[0m\n",
       "\u001b[0;34m\u001b[0m        \u001b[0;32mreturn\u001b[0m \u001b[0mloss\u001b[0m\u001b[0;34m\u001b[0m\u001b[0;34m\u001b[0m\u001b[0m\n",
       "\u001b[0;31mFile:\u001b[0m           ~/.local/lib/python3.6/site-packages/torch/optim/sgd.py\n",
       "\u001b[0;31mType:\u001b[0m           type\n",
       "\u001b[0;31mSubclasses:\u001b[0m     \n"
      ]
     },
     "metadata": {},
     "output_type": "display_data"
    }
   ],
   "source": [
    "optim.SGD??"
   ]
  },
  {
   "cell_type": "code",
   "execution_count": 37,
   "metadata": {},
   "outputs": [],
   "source": [
    "model4 = DeeperFCNet().to(device)"
   ]
  },
  {
   "cell_type": "code",
   "execution_count": 38,
   "metadata": {},
   "outputs": [],
   "source": [
    "#We change the option of the optimizer to add the L2 regularization\n",
    "optimizer4 = optim.SGD(model4.parameters(), lr=lr, momentum=momentum,  weight_decay=0.5)"
   ]
  },
  {
   "cell_type": "code",
   "execution_count": 39,
   "metadata": {},
   "outputs": [
    {
     "name": "stdout",
     "output_type": "stream",
     "text": [
      "Train Epoch: 1 [0/60000 (0%)]\tLoss: 2.331374\n",
      "Train Epoch: 1 [6400/60000 (11%)]\tLoss: 2.295485\n",
      "Train Epoch: 1 [12800/60000 (21%)]\tLoss: 2.301369\n",
      "Train Epoch: 1 [19200/60000 (32%)]\tLoss: 2.308304\n",
      "Train Epoch: 1 [25600/60000 (43%)]\tLoss: 2.302582\n",
      "Train Epoch: 1 [32000/60000 (53%)]\tLoss: 2.301656\n",
      "Train Epoch: 1 [38400/60000 (64%)]\tLoss: 2.296278\n",
      "Train Epoch: 1 [44800/60000 (75%)]\tLoss: 2.302168\n",
      "Train Epoch: 1 [51200/60000 (85%)]\tLoss: 2.302034\n",
      "Train Epoch: 1 [57600/60000 (96%)]\tLoss: 2.297843\n",
      "\n",
      "Test set: Average loss: 2.3014, Accuracy: 1135/10000 (11%)\n",
      "\n",
      "Train Epoch: 2 [0/60000 (0%)]\tLoss: 2.302462\n",
      "Train Epoch: 2 [6400/60000 (11%)]\tLoss: 2.296545\n",
      "Train Epoch: 2 [12800/60000 (21%)]\tLoss: 2.293572\n",
      "Train Epoch: 2 [19200/60000 (32%)]\tLoss: 2.306719\n",
      "Train Epoch: 2 [25600/60000 (43%)]\tLoss: 2.298751\n",
      "Train Epoch: 2 [32000/60000 (53%)]\tLoss: 2.306308\n",
      "Train Epoch: 2 [38400/60000 (64%)]\tLoss: 2.302468\n",
      "Train Epoch: 2 [44800/60000 (75%)]\tLoss: 2.302160\n",
      "Train Epoch: 2 [51200/60000 (85%)]\tLoss: 2.303361\n",
      "Train Epoch: 2 [57600/60000 (96%)]\tLoss: 2.303338\n",
      "\n",
      "Test set: Average loss: 2.3015, Accuracy: 1135/10000 (11%)\n",
      "\n",
      "Train Epoch: 3 [0/60000 (0%)]\tLoss: 2.302547\n",
      "Train Epoch: 3 [6400/60000 (11%)]\tLoss: 2.293474\n",
      "Train Epoch: 3 [12800/60000 (21%)]\tLoss: 2.310234\n",
      "Train Epoch: 3 [19200/60000 (32%)]\tLoss: 2.309249\n",
      "Train Epoch: 3 [25600/60000 (43%)]\tLoss: 2.308474\n",
      "Train Epoch: 3 [32000/60000 (53%)]\tLoss: 2.308401\n",
      "Train Epoch: 3 [38400/60000 (64%)]\tLoss: 2.294113\n",
      "Train Epoch: 3 [44800/60000 (75%)]\tLoss: 2.297112\n",
      "Train Epoch: 3 [51200/60000 (85%)]\tLoss: 2.300135\n",
      "Train Epoch: 3 [57600/60000 (96%)]\tLoss: 2.295815\n",
      "\n",
      "Test set: Average loss: 2.3016, Accuracy: 1135/10000 (11%)\n",
      "\n",
      "Train Epoch: 4 [0/60000 (0%)]\tLoss: 2.299323\n",
      "Train Epoch: 4 [6400/60000 (11%)]\tLoss: 2.303080\n",
      "Train Epoch: 4 [12800/60000 (21%)]\tLoss: 2.302317\n",
      "Train Epoch: 4 [19200/60000 (32%)]\tLoss: 2.295411\n",
      "Train Epoch: 4 [25600/60000 (43%)]\tLoss: 2.302135\n",
      "Train Epoch: 4 [32000/60000 (53%)]\tLoss: 2.297387\n",
      "Train Epoch: 4 [38400/60000 (64%)]\tLoss: 2.297719\n",
      "Train Epoch: 4 [44800/60000 (75%)]\tLoss: 2.301808\n",
      "Train Epoch: 4 [51200/60000 (85%)]\tLoss: 2.303800\n",
      "Train Epoch: 4 [57600/60000 (96%)]\tLoss: 2.290961\n",
      "\n",
      "Test set: Average loss: 2.3015, Accuracy: 1135/10000 (11%)\n",
      "\n",
      "Train Epoch: 5 [0/60000 (0%)]\tLoss: 2.299701\n",
      "Train Epoch: 5 [6400/60000 (11%)]\tLoss: 2.310067\n",
      "Train Epoch: 5 [12800/60000 (21%)]\tLoss: 2.301587\n",
      "Train Epoch: 5 [19200/60000 (32%)]\tLoss: 2.296200\n",
      "Train Epoch: 5 [25600/60000 (43%)]\tLoss: 2.299949\n",
      "Train Epoch: 5 [32000/60000 (53%)]\tLoss: 2.302726\n",
      "Train Epoch: 5 [38400/60000 (64%)]\tLoss: 2.299979\n",
      "Train Epoch: 5 [44800/60000 (75%)]\tLoss: 2.303854\n",
      "Train Epoch: 5 [51200/60000 (85%)]\tLoss: 2.302833\n",
      "Train Epoch: 5 [57600/60000 (96%)]\tLoss: 2.302139\n",
      "\n",
      "Test set: Average loss: 2.3012, Accuracy: 1135/10000 (11%)\n",
      "\n",
      "Train Epoch: 6 [0/60000 (0%)]\tLoss: 2.311171\n",
      "Train Epoch: 6 [6400/60000 (11%)]\tLoss: 2.299640\n",
      "Train Epoch: 6 [12800/60000 (21%)]\tLoss: 2.306756\n",
      "Train Epoch: 6 [19200/60000 (32%)]\tLoss: 2.309384\n",
      "Train Epoch: 6 [25600/60000 (43%)]\tLoss: 2.294443\n",
      "Train Epoch: 6 [32000/60000 (53%)]\tLoss: 2.298089\n",
      "Train Epoch: 6 [38400/60000 (64%)]\tLoss: 2.297456\n",
      "Train Epoch: 6 [44800/60000 (75%)]\tLoss: 2.295761\n",
      "Train Epoch: 6 [51200/60000 (85%)]\tLoss: 2.305010\n",
      "Train Epoch: 6 [57600/60000 (96%)]\tLoss: 2.289195\n",
      "\n",
      "Test set: Average loss: 2.3014, Accuracy: 1135/10000 (11%)\n",
      "\n",
      "Train Epoch: 7 [0/60000 (0%)]\tLoss: 2.300777\n",
      "Train Epoch: 7 [6400/60000 (11%)]\tLoss: 2.295028\n",
      "Train Epoch: 7 [12800/60000 (21%)]\tLoss: 2.307281\n",
      "Train Epoch: 7 [19200/60000 (32%)]\tLoss: 2.303847\n",
      "Train Epoch: 7 [25600/60000 (43%)]\tLoss: 2.302174\n",
      "Train Epoch: 7 [32000/60000 (53%)]\tLoss: 2.297915\n",
      "Train Epoch: 7 [38400/60000 (64%)]\tLoss: 2.301330\n",
      "Train Epoch: 7 [44800/60000 (75%)]\tLoss: 2.304005\n",
      "Train Epoch: 7 [51200/60000 (85%)]\tLoss: 2.306245\n",
      "Train Epoch: 7 [57600/60000 (96%)]\tLoss: 2.307577\n",
      "\n",
      "Test set: Average loss: 2.3015, Accuracy: 1135/10000 (11%)\n",
      "\n",
      "Train Epoch: 8 [0/60000 (0%)]\tLoss: 2.303643\n",
      "Train Epoch: 8 [6400/60000 (11%)]\tLoss: 2.303616\n",
      "Train Epoch: 8 [12800/60000 (21%)]\tLoss: 2.296133\n",
      "Train Epoch: 8 [19200/60000 (32%)]\tLoss: 2.302375\n",
      "Train Epoch: 8 [25600/60000 (43%)]\tLoss: 2.306462\n",
      "Train Epoch: 8 [32000/60000 (53%)]\tLoss: 2.299614\n",
      "Train Epoch: 8 [38400/60000 (64%)]\tLoss: 2.296946\n",
      "Train Epoch: 8 [44800/60000 (75%)]\tLoss: 2.293435\n",
      "Train Epoch: 8 [51200/60000 (85%)]\tLoss: 2.295871\n",
      "Train Epoch: 8 [57600/60000 (96%)]\tLoss: 2.306649\n",
      "\n",
      "Test set: Average loss: 2.3015, Accuracy: 1135/10000 (11%)\n",
      "\n",
      "Train Epoch: 9 [0/60000 (0%)]\tLoss: 2.299406\n",
      "Train Epoch: 9 [6400/60000 (11%)]\tLoss: 2.303749\n",
      "Train Epoch: 9 [12800/60000 (21%)]\tLoss: 2.302869\n",
      "Train Epoch: 9 [19200/60000 (32%)]\tLoss: 2.297520\n",
      "Train Epoch: 9 [25600/60000 (43%)]\tLoss: 2.308676\n",
      "Train Epoch: 9 [32000/60000 (53%)]\tLoss: 2.300439\n",
      "Train Epoch: 9 [38400/60000 (64%)]\tLoss: 2.316022\n",
      "Train Epoch: 9 [44800/60000 (75%)]\tLoss: 2.304920\n",
      "Train Epoch: 9 [51200/60000 (85%)]\tLoss: 2.306639\n",
      "Train Epoch: 9 [57600/60000 (96%)]\tLoss: 2.302976\n",
      "\n",
      "Test set: Average loss: 2.3014, Accuracy: 1135/10000 (11%)\n",
      "\n",
      "Train Epoch: 10 [0/60000 (0%)]\tLoss: 2.299152\n",
      "Train Epoch: 10 [6400/60000 (11%)]\tLoss: 2.297042\n",
      "Train Epoch: 10 [12800/60000 (21%)]\tLoss: 2.296066\n",
      "Train Epoch: 10 [19200/60000 (32%)]\tLoss: 2.302774\n",
      "Train Epoch: 10 [25600/60000 (43%)]\tLoss: 2.306934\n",
      "Train Epoch: 10 [32000/60000 (53%)]\tLoss: 2.297617\n",
      "Train Epoch: 10 [38400/60000 (64%)]\tLoss: 2.306365\n",
      "Train Epoch: 10 [44800/60000 (75%)]\tLoss: 2.302007\n",
      "Train Epoch: 10 [51200/60000 (85%)]\tLoss: 2.299907\n",
      "Train Epoch: 10 [57600/60000 (96%)]\tLoss: 2.300185\n",
      "\n",
      "Test set: Average loss: 2.3013, Accuracy: 1135/10000 (11%)\n",
      "\n"
     ]
    }
   ],
   "source": [
    "for epoch in range(1, epochs + 1):\n",
    "    train(model4, device, train_loader, optimizer4, epoch)\n",
    "    test(model4, device, test_loader)"
   ]
  },
  {
   "cell_type": "code",
   "execution_count": 40,
   "metadata": {},
   "outputs": [],
   "source": [
    "r1_L2_largeWD, r2_L2_largeWD = model4.extract(sample)"
   ]
  },
  {
   "cell_type": "code",
   "execution_count": 41,
   "metadata": {},
   "outputs": [
    {
     "data": {
      "text/plain": [
       "array([[0.9875858 , 0.11856472, 0.50376034, ..., 0.9927608 , 0.8652809 ,\n",
       "        0.9942952 ],\n",
       "       [0.4746984 , 0.9309091 , 0.80933577, ..., 0.39708838, 0.28470856,\n",
       "        0.84556323],\n",
       "       [0.97635037, 0.9786879 , 0.9045155 , ..., 0.22254446, 0.03783028,\n",
       "        0.13546455],\n",
       "       ...,\n",
       "       [0.8427042 , 0.36552444, 0.7763864 , ..., 0.99836344, 0.87921494,\n",
       "        0.99824655],\n",
       "       [0.6864034 , 0.99495244, 0.9869688 , ..., 0.6521605 , 0.07633646,\n",
       "        0.8376905 ],\n",
       "       [0.01544651, 0.00801038, 0.981441  , ..., 0.01517022, 0.00455188,\n",
       "        0.00446592]], dtype=float32)"
      ]
     },
     "execution_count": 41,
     "metadata": {},
     "output_type": "execute_result"
    }
   ],
   "source": [
    "r1"
   ]
  },
  {
   "cell_type": "code",
   "execution_count": 42,
   "metadata": {},
   "outputs": [
    {
     "data": {
      "text/plain": [
       "tensor([[0.5000, 0.5000, 0.5000,  ..., 0.5000, 0.5000, 0.5000],\n",
       "        [0.5000, 0.5000, 0.5000,  ..., 0.5000, 0.5000, 0.5000],\n",
       "        [0.5000, 0.5000, 0.5000,  ..., 0.5000, 0.5000, 0.5000],\n",
       "        ...,\n",
       "        [0.5000, 0.5000, 0.5000,  ..., 0.5000, 0.5000, 0.5000],\n",
       "        [0.5000, 0.5000, 0.5000,  ..., 0.5000, 0.5000, 0.5000],\n",
       "        [0.5000, 0.5000, 0.5000,  ..., 0.5000, 0.5000, 0.5000]],\n",
       "       grad_fn=<SigmoidBackward>)"
      ]
     },
     "execution_count": 42,
     "metadata": {},
     "output_type": "execute_result"
    }
   ],
   "source": [
    "r1_L2_largeWD"
   ]
  },
  {
   "cell_type": "code",
   "execution_count": 44,
   "metadata": {},
   "outputs": [],
   "source": [
    "r1_L2_largeWD = r1_L2_largeWD.detach().numpy()\n",
    "r2_L2_largeWD = r2_L2_largeWD.detach().numpy()"
   ]
  },
  {
   "cell_type": "code",
   "execution_count": 45,
   "metadata": {},
   "outputs": [],
   "source": [
    "e1_L2_largeWD = TSNE(n_components=2).fit_transform(r1_L2_largeWD)\n",
    "e2_L2_largeWD = TSNE(n_components=2).fit_transform(r2_L2_largeWD)"
   ]
  },
  {
   "cell_type": "code",
   "execution_count": 54,
   "metadata": {},
   "outputs": [
    {
     "data": {
      "text/plain": [
       "[<matplotlib.lines.Line2D at 0x7f2cf81ceb38>]"
      ]
     },
     "execution_count": 54,
     "metadata": {},
     "output_type": "execute_result"
    },
    {
     "data": {
      "image/png": "[encoded data removed]",
      "text/plain": [
       "<Figure size 432x288 with 1 Axes>"
      ]
     },
     "metadata": {
      "needs_background": "light"
     },
     "output_type": "display_data"
    }
   ],
   "source": [
    "plt.plot(e1_L2_largeWD[:,0],e1_L2_largeWD[:,1], '.')"
   ]
  },
  {
   "cell_type": "code",
   "execution_count": 46,
   "metadata": {},
   "outputs": [],
   "source": [
    "model5 = DeeperFCNet().to(device)"
   ]
  },
  {
   "cell_type": "code",
   "execution_count": 47,
   "metadata": {},
   "outputs": [],
   "source": [
    "#Smaller weight_decay\n",
    "optimizer5 = optim.SGD(model5.parameters(), lr=lr, momentum=momentum,  weight_decay=0.0001)"
   ]
  },
  {
   "cell_type": "code",
   "execution_count": 48,
   "metadata": {},
   "outputs": [
    {
     "name": "stdout",
     "output_type": "stream",
     "text": [
      "Train Epoch: 1 [0/60000 (0%)]\tLoss: 2.429528\n",
      "Train Epoch: 1 [6400/60000 (11%)]\tLoss: 2.338742\n",
      "Train Epoch: 1 [12800/60000 (21%)]\tLoss: 2.290154\n",
      "Train Epoch: 1 [19200/60000 (32%)]\tLoss: 2.293868\n",
      "Train Epoch: 1 [25600/60000 (43%)]\tLoss: 2.298368\n",
      "Train Epoch: 1 [32000/60000 (53%)]\tLoss: 2.262805\n",
      "Train Epoch: 1 [38400/60000 (64%)]\tLoss: 2.257061\n",
      "Train Epoch: 1 [44800/60000 (75%)]\tLoss: 2.268010\n",
      "Train Epoch: 1 [51200/60000 (85%)]\tLoss: 2.263597\n",
      "Train Epoch: 1 [57600/60000 (96%)]\tLoss: 2.254347\n",
      "\n",
      "Test set: Average loss: 2.2428, Accuracy: 3180/10000 (32%)\n",
      "\n",
      "Train Epoch: 2 [0/60000 (0%)]\tLoss: 2.234122\n",
      "Train Epoch: 2 [6400/60000 (11%)]\tLoss: 2.234684\n",
      "Train Epoch: 2 [12800/60000 (21%)]\tLoss: 2.249715\n",
      "Train Epoch: 2 [19200/60000 (32%)]\tLoss: 2.209418\n",
      "Train Epoch: 2 [25600/60000 (43%)]\tLoss: 2.205406\n",
      "Train Epoch: 2 [32000/60000 (53%)]\tLoss: 2.188012\n",
      "Train Epoch: 2 [38400/60000 (64%)]\tLoss: 2.154447\n",
      "Train Epoch: 2 [44800/60000 (75%)]\tLoss: 2.155865\n",
      "Train Epoch: 2 [51200/60000 (85%)]\tLoss: 2.117585\n",
      "Train Epoch: 2 [57600/60000 (96%)]\tLoss: 2.074292\n",
      "\n",
      "Test set: Average loss: 2.0852, Accuracy: 4146/10000 (41%)\n",
      "\n",
      "Train Epoch: 3 [0/60000 (0%)]\tLoss: 2.078447\n",
      "Train Epoch: 3 [6400/60000 (11%)]\tLoss: 2.064404\n",
      "Train Epoch: 3 [12800/60000 (21%)]\tLoss: 2.029975\n",
      "Train Epoch: 3 [19200/60000 (32%)]\tLoss: 2.005512\n",
      "Train Epoch: 3 [25600/60000 (43%)]\tLoss: 1.948815\n",
      "Train Epoch: 3 [32000/60000 (53%)]\tLoss: 1.934477\n",
      "Train Epoch: 3 [38400/60000 (64%)]\tLoss: 1.857826\n",
      "Train Epoch: 3 [44800/60000 (75%)]\tLoss: 1.838601\n",
      "Train Epoch: 3 [51200/60000 (85%)]\tLoss: 1.816964\n",
      "Train Epoch: 3 [57600/60000 (96%)]\tLoss: 1.764906\n",
      "\n",
      "Test set: Average loss: 1.7735, Accuracy: 4731/10000 (47%)\n",
      "\n",
      "Train Epoch: 4 [0/60000 (0%)]\tLoss: 1.779195\n",
      "Train Epoch: 4 [6400/60000 (11%)]\tLoss: 1.767995\n",
      "Train Epoch: 4 [12800/60000 (21%)]\tLoss: 1.714500\n",
      "Train Epoch: 4 [19200/60000 (32%)]\tLoss: 1.797678\n",
      "Train Epoch: 4 [25600/60000 (43%)]\tLoss: 1.702096\n",
      "Train Epoch: 4 [32000/60000 (53%)]\tLoss: 1.635650\n",
      "Train Epoch: 4 [38400/60000 (64%)]\tLoss: 1.659066\n",
      "Train Epoch: 4 [44800/60000 (75%)]\tLoss: 1.591843\n",
      "Train Epoch: 4 [51200/60000 (85%)]\tLoss: 1.427196\n",
      "Train Epoch: 4 [57600/60000 (96%)]\tLoss: 1.409472\n",
      "\n",
      "Test set: Average loss: 1.4944, Accuracy: 5842/10000 (58%)\n",
      "\n",
      "Train Epoch: 5 [0/60000 (0%)]\tLoss: 1.471700\n",
      "Train Epoch: 5 [6400/60000 (11%)]\tLoss: 1.369000\n",
      "Train Epoch: 5 [12800/60000 (21%)]\tLoss: 1.461650\n",
      "Train Epoch: 5 [19200/60000 (32%)]\tLoss: 1.301049\n",
      "Train Epoch: 5 [25600/60000 (43%)]\tLoss: 1.461856\n",
      "Train Epoch: 5 [32000/60000 (53%)]\tLoss: 1.252531\n",
      "Train Epoch: 5 [38400/60000 (64%)]\tLoss: 1.299317\n",
      "Train Epoch: 5 [44800/60000 (75%)]\tLoss: 1.263313\n",
      "Train Epoch: 5 [51200/60000 (85%)]\tLoss: 1.327065\n",
      "Train Epoch: 5 [57600/60000 (96%)]\tLoss: 1.291126\n",
      "\n",
      "Test set: Average loss: 1.2593, Accuracy: 6635/10000 (66%)\n",
      "\n",
      "Train Epoch: 6 [0/60000 (0%)]\tLoss: 1.315692\n",
      "Train Epoch: 6 [6400/60000 (11%)]\tLoss: 1.436804\n",
      "Train Epoch: 6 [12800/60000 (21%)]\tLoss: 1.212290\n",
      "Train Epoch: 6 [19200/60000 (32%)]\tLoss: 1.262436\n",
      "Train Epoch: 6 [25600/60000 (43%)]\tLoss: 1.250813\n",
      "Train Epoch: 6 [32000/60000 (53%)]\tLoss: 1.196527\n",
      "Train Epoch: 6 [38400/60000 (64%)]\tLoss: 0.968389\n",
      "Train Epoch: 6 [44800/60000 (75%)]\tLoss: 1.116816\n",
      "Train Epoch: 6 [51200/60000 (85%)]\tLoss: 1.211559\n",
      "Train Epoch: 6 [57600/60000 (96%)]\tLoss: 1.008960\n",
      "\n",
      "Test set: Average loss: 1.0567, Accuracy: 7261/10000 (73%)\n",
      "\n",
      "Train Epoch: 7 [0/60000 (0%)]\tLoss: 1.031752\n",
      "Train Epoch: 7 [6400/60000 (11%)]\tLoss: 1.058761\n",
      "Train Epoch: 7 [12800/60000 (21%)]\tLoss: 1.018171\n",
      "Train Epoch: 7 [19200/60000 (32%)]\tLoss: 1.115437\n",
      "Train Epoch: 7 [25600/60000 (43%)]\tLoss: 1.032537\n",
      "Train Epoch: 7 [32000/60000 (53%)]\tLoss: 0.776279\n",
      "Train Epoch: 7 [38400/60000 (64%)]\tLoss: 0.972290\n",
      "Train Epoch: 7 [44800/60000 (75%)]\tLoss: 0.959003\n",
      "Train Epoch: 7 [51200/60000 (85%)]\tLoss: 0.797608\n",
      "Train Epoch: 7 [57600/60000 (96%)]\tLoss: 0.877169\n",
      "\n",
      "Test set: Average loss: 0.9088, Accuracy: 7767/10000 (78%)\n",
      "\n",
      "Train Epoch: 8 [0/60000 (0%)]\tLoss: 0.910469\n",
      "Train Epoch: 8 [6400/60000 (11%)]\tLoss: 0.936067\n",
      "Train Epoch: 8 [12800/60000 (21%)]\tLoss: 0.916289\n",
      "Train Epoch: 8 [19200/60000 (32%)]\tLoss: 0.865516\n",
      "Train Epoch: 8 [25600/60000 (43%)]\tLoss: 0.858992\n",
      "Train Epoch: 8 [32000/60000 (53%)]\tLoss: 0.938794\n",
      "Train Epoch: 8 [38400/60000 (64%)]\tLoss: 0.767870\n",
      "Train Epoch: 8 [44800/60000 (75%)]\tLoss: 0.920913\n",
      "Train Epoch: 8 [51200/60000 (85%)]\tLoss: 0.925558\n",
      "Train Epoch: 8 [57600/60000 (96%)]\tLoss: 0.684702\n",
      "\n",
      "Test set: Average loss: 0.8019, Accuracy: 8047/10000 (80%)\n",
      "\n",
      "Train Epoch: 9 [0/60000 (0%)]\tLoss: 0.940120\n",
      "Train Epoch: 9 [6400/60000 (11%)]\tLoss: 0.658067\n",
      "Train Epoch: 9 [12800/60000 (21%)]\tLoss: 0.709899\n",
      "Train Epoch: 9 [19200/60000 (32%)]\tLoss: 0.731940\n",
      "Train Epoch: 9 [25600/60000 (43%)]\tLoss: 0.739386\n",
      "Train Epoch: 9 [32000/60000 (53%)]\tLoss: 0.735759\n",
      "Train Epoch: 9 [38400/60000 (64%)]\tLoss: 0.720539\n",
      "Train Epoch: 9 [44800/60000 (75%)]\tLoss: 0.703712\n",
      "Train Epoch: 9 [51200/60000 (85%)]\tLoss: 0.864666\n",
      "Train Epoch: 9 [57600/60000 (96%)]\tLoss: 0.902459\n",
      "\n",
      "Test set: Average loss: 0.7180, Accuracy: 8327/10000 (83%)\n",
      "\n",
      "Train Epoch: 10 [0/60000 (0%)]\tLoss: 0.598157\n",
      "Train Epoch: 10 [6400/60000 (11%)]\tLoss: 0.737306\n",
      "Train Epoch: 10 [12800/60000 (21%)]\tLoss: 0.635106\n",
      "Train Epoch: 10 [19200/60000 (32%)]\tLoss: 0.785718\n",
      "Train Epoch: 10 [25600/60000 (43%)]\tLoss: 0.660470\n",
      "Train Epoch: 10 [32000/60000 (53%)]\tLoss: 0.708445\n",
      "Train Epoch: 10 [38400/60000 (64%)]\tLoss: 0.666646\n",
      "Train Epoch: 10 [44800/60000 (75%)]\tLoss: 0.562131\n",
      "Train Epoch: 10 [51200/60000 (85%)]\tLoss: 0.628379\n",
      "Train Epoch: 10 [57600/60000 (96%)]\tLoss: 0.538326\n",
      "\n",
      "Test set: Average loss: 0.6477, Accuracy: 8481/10000 (85%)\n",
      "\n"
     ]
    }
   ],
   "source": [
    "for epoch in range(1, epochs + 1):\n",
    "    train(model5, device, train_loader, optimizer5, epoch)\n",
    "    test(model5, device, test_loader)"
   ]
  },
  {
   "cell_type": "code",
   "execution_count": 49,
   "metadata": {},
   "outputs": [],
   "source": [
    "r1_L2_smallWD, r2_L2_smallWD = model5.extract(sample)"
   ]
  },
  {
   "cell_type": "code",
   "execution_count": 50,
   "metadata": {},
   "outputs": [
    {
     "data": {
      "text/plain": [
       "array([[0.9875858 , 0.11856472, 0.50376034, ..., 0.9927608 , 0.8652809 ,\n",
       "        0.9942952 ],\n",
       "       [0.4746984 , 0.9309091 , 0.80933577, ..., 0.39708838, 0.28470856,\n",
       "        0.84556323],\n",
       "       [0.97635037, 0.9786879 , 0.9045155 , ..., 0.22254446, 0.03783028,\n",
       "        0.13546455],\n",
       "       ...,\n",
       "       [0.8427042 , 0.36552444, 0.7763864 , ..., 0.99836344, 0.87921494,\n",
       "        0.99824655],\n",
       "       [0.6864034 , 0.99495244, 0.9869688 , ..., 0.6521605 , 0.07633646,\n",
       "        0.8376905 ],\n",
       "       [0.01544651, 0.00801038, 0.981441  , ..., 0.01517022, 0.00455188,\n",
       "        0.00446592]], dtype=float32)"
      ]
     },
     "execution_count": 50,
     "metadata": {},
     "output_type": "execute_result"
    }
   ],
   "source": [
    "r1"
   ]
  },
  {
   "cell_type": "code",
   "execution_count": 51,
   "metadata": {},
   "outputs": [
    {
     "data": {
      "text/plain": [
       "tensor([[0.0937, 0.9993, 0.0554,  ..., 0.9986, 0.8133, 0.9980],\n",
       "        [0.7274, 0.1395, 0.8733,  ..., 0.2082, 0.8641, 0.2000],\n",
       "        [0.9317, 0.9693, 0.9311,  ..., 0.8789, 0.9045, 0.8474],\n",
       "        ...,\n",
       "        [0.0622, 0.9754, 0.4325,  ..., 0.9731, 0.7457, 0.9435],\n",
       "        [0.8849, 0.7877, 0.9850,  ..., 0.2332, 0.9189, 0.3180],\n",
       "        [0.9990, 0.9998, 0.9958,  ..., 0.0074, 0.0109, 0.9996]],\n",
       "       grad_fn=<SigmoidBackward>)"
      ]
     },
     "execution_count": 51,
     "metadata": {},
     "output_type": "execute_result"
    }
   ],
   "source": [
    "r1_L2_smallWD"
   ]
  },
  {
   "cell_type": "code",
   "execution_count": 52,
   "metadata": {},
   "outputs": [],
   "source": [
    "r1_L2_smallWD = r1_L2_smallWD.detach().numpy()\n",
    "r2_L2_smallWD = r2_L2_smallWD.detach().numpy()"
   ]
  },
  {
   "cell_type": "code",
   "execution_count": 53,
   "metadata": {},
   "outputs": [],
   "source": [
    "e1_L2_smallWD = TSNE(n_components=2).fit_transform(r1_L2_smallWD)\n",
    "e2_L2_smallWD = TSNE(n_components=2).fit_transform(r2_L2_smallWD)"
   ]
  },
  {
   "cell_type": "code",
   "execution_count": 55,
   "metadata": {},
   "outputs": [
    {
     "data": {
      "text/plain": [
       "[<matplotlib.lines.Line2D at 0x7f2cf81ad278>]"
      ]
     },
     "execution_count": 55,
     "metadata": {},
     "output_type": "execute_result"
    },
    {
     "data": {
      "image/png": "[encoded data removed]",
      "text/plain": [
       "<Figure size 432x288 with 1 Axes>"
      ]
     },
     "metadata": {
      "needs_background": "light"
     },
     "output_type": "display_data"
    }
   ],
   "source": [
    "plt.plot(e1_L2_smallWD[:,0],e1_L2_smallWD[:,1], '.')"
   ]
  },
  {
   "cell_type": "code",
   "execution_count": null,
   "metadata": {},
   "outputs": [],
   "source": []
  }
 ],
 "metadata": {
  "kernelspec": {
   "display_name": "Python 3",
   "language": "python",
   "name": "python3"
  },
  "language_info": {
   "codemirror_mode": {
    "name": "ipython",
    "version": 3
   },
   "file_extension": ".py",
   "mimetype": "text/x-python",
   "name": "python",
   "nbconvert_exporter": "python",
   "pygments_lexer": "ipython3",
   "version": "3.6.9"
  }
 },
 "nbformat": 4,
 "nbformat_minor": 4
}
